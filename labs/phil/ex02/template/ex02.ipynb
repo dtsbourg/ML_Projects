{
 "cells": [
  {
   "cell_type": "code",
   "execution_count": 1,
   "metadata": {
    "collapsed": true
   },
   "outputs": [],
   "source": [
    "# Useful starting lines\n",
    "%matplotlib inline\n",
    "import numpy as np\n",
    "import matplotlib.pyplot as plt\n",
    "%load_ext autoreload\n",
    "%autoreload 2"
   ]
  },
  {
   "cell_type": "markdown",
   "metadata": {},
   "source": [
    "# Load the data"
   ]
  },
  {
   "cell_type": "code",
   "execution_count": 2,
   "metadata": {
    "collapsed": true
   },
   "outputs": [],
   "source": [
    "import datetime\n",
    "from helpers import *\n",
    "\n",
    "height, weight, gender = load_data(sub_sample=False, add_outlier=False)\n",
    "x, mean_x, std_x = standardize(height)\n",
    "y, tx = build_model_data(x, weight)"
   ]
  },
  {
   "cell_type": "code",
   "execution_count": 3,
   "metadata": {},
   "outputs": [
    {
     "name": "stdout",
     "output_type": "stream",
     "text": [
      "(10000,)\n",
      "(10000, 2)\n"
     ]
    }
   ],
   "source": [
    "print(y.shape)  # 1 x 10000\n",
    "print(tx.shape) # 10000 x 2\n",
    "#print(y)\n",
    "#print(tx)"
   ]
  },
  {
   "cell_type": "markdown",
   "metadata": {},
   "source": [
    "# 1 Computing the Cost Function"
   ]
  },
  {
   "cell_type": "markdown",
   "metadata": {},
   "source": [
    "Fill in the `compute_loss` function below:\n",
    "<a id='compute_loss'></a>\n"
   ]
  },
  {
   "cell_type": "code",
   "execution_count": 4,
   "metadata": {},
   "outputs": [
    {
     "name": "stdout",
     "output_type": "stream",
     "text": [
      "[[  8.   7.]\n",
      " [ 28.  29.]]\n",
      "[[  4.   1.]\n",
      " [ 16.  25.]]\n",
      "[  4.  14.]\n",
      "[  4.  14.]\n"
     ]
    }
   ],
   "source": [
    "A = np.array([[2.0,1.0],[4.0,5.0]])\n",
    "B = np.array([[2.0,1.0],[4.0,5.0]])\n",
    "C = np.array([1.0, 2.0])\n",
    "print(np.dot(A,B))\n",
    "print(np.multiply(A,B))\n",
    "print(np.dot(A,C)) #un vecteur ligne est automatiquement bien orienté pour la multiplication\n",
    "print(np.dot(A,np.transpose(C)))"
   ]
  },
  {
   "cell_type": "code",
   "execution_count": 90,
   "metadata": {
    "collapsed": true
   },
   "outputs": [],
   "source": [
    "def compute_loss(y, tx, w):\n",
    "    MAE = True\n",
    "    L = 0\n",
    "    e = y - tx.dot(w)\n",
    "    \n",
    "    if(MAE):\n",
    "        L = np.sum(np.abs(e),axis=0)/len(y)\n",
    "    else:\n",
    "        L = np.sum(np.power(e,2),axis=0)/(2.0*len(y))\n",
    "    return L"
   ]
  },
  {
   "cell_type": "code",
   "execution_count": 91,
   "metadata": {},
   "outputs": [
    {
     "name": "stdout",
     "output_type": "stream",
     "text": [
      "72.6322724597\n",
      "0.0\n",
      "1.0\n",
      "1.5\n",
      "1.0\n",
      "1.5\n"
     ]
    }
   ],
   "source": [
    "#print(compute_loss(y,tx,[1, 2]))\n",
    "print(compute_loss(y,tx,np.array([1, 2]))) #just for test. Same result as previous one\n",
    "\n",
    "# ---------- TEST ------------------\n",
    "# Je crée les points (0,1) et (1,2)\n",
    "# le meilleur fit devrait être y = x + 1, donc (w0, w1)_best = (1,1)\n",
    "# ----------------------------------\n",
    "my_y = np.array([1,2])\n",
    "my_tx = np.array([[1,0],[1,1]])\n",
    "print(compute_loss(my_y, my_tx, [1,1]))  #should be 0 ... OK !\n",
    "print(compute_loss(my_y, my_tx, [1,3]))  #should be 4 ... OK !\n",
    "print(compute_loss(my_y, my_tx, [2,2]))  #should be 5 ... OK !\n",
    "print(compute_loss(my_y, my_tx, [1,-1])) #should be 4 ... OK !\n",
    "print(compute_loss(my_y, my_tx, [2,2]))  #should be 5 ... OK !"
   ]
  },
  {
   "cell_type": "markdown",
   "metadata": {},
   "source": [
    "# 2 Grid Search\n",
    "\n",
    "Fill in the function `grid_search()` below:"
   ]
  },
  {
   "cell_type": "code",
   "execution_count": 95,
   "metadata": {
    "collapsed": true
   },
   "outputs": [],
   "source": [
    "def grid_search(y, tx, w0, w1):\n",
    "    \"\"\"Algorithm for grid search.\"\"\"\n",
    "    losses = np.zeros((len(w0), len(w1)))\n",
    "    print(len(w0),len(w1))\n",
    "    for i in range(0,len(w0)):         # !! range(x,y) = [x ... y-1]\n",
    "        for j in range(0,len(w1)):\n",
    "            losses[i][j] = compute_loss(y,tx,[w0[i], w1[j]]) \n",
    "    return losses"
   ]
  },
  {
   "cell_type": "markdown",
   "metadata": {},
   "source": [
    "Let us play with the grid search demo now!"
   ]
  },
  {
   "cell_type": "code",
   "execution_count": 96,
   "metadata": {},
   "outputs": [
    {
     "name": "stdout",
     "output_type": "stream",
     "text": [
      "50 50\n",
      "Grid Search: loss*=4.8736571178918675, w0*=71.42857142857142, w1*=15.306122448979579, execution time=0.194 seconds\n"
     ]
    },
    {
     "data": {
      "image/png": "[encoded data removed]",
      "text/plain": [
       "<matplotlib.figure.Figure at 0x11396eda0>"
      ]
     },
     "metadata": {},
     "output_type": "display_data"
    }
   ],
   "source": [
    "from grid_search import generate_w, get_best_parameters\n",
    "from plots import grid_visualization\n",
    "\n",
    "# Generate the grid of parameters to be swept\n",
    "grid_w0, grid_w1 = generate_w(num_intervals=50)\n",
    "\n",
    "# Start the grid search\n",
    "start_time = datetime.datetime.now()\n",
    "grid_losses = grid_search(y, tx, grid_w0, grid_w1)\n",
    "\n",
    "# Select the best combinaison\n",
    "loss_star, w0_star, w1_star = get_best_parameters(grid_w0, grid_w1, grid_losses)\n",
    "end_time = datetime.datetime.now()\n",
    "execution_time = (end_time - start_time).total_seconds()\n",
    "\n",
    "# Print the results\n",
    "print(\"Grid Search: loss*={l}, w0*={w0}, w1*={w1}, execution time={t:.3f} seconds\".format(\n",
    "      l=loss_star, w0=w0_star, w1=w1_star, t=execution_time))\n",
    "\n",
    "# Plot the results\n",
    "fig = grid_visualization(grid_losses, grid_w0, grid_w1, mean_x, std_x, height, weight)\n",
    "fig.set_size_inches(10.0,6.0)\n",
    "fig.savefig(\"grid_plot\")  # Optional saving"
   ]
  },
  {
   "cell_type": "markdown",
   "metadata": {},
   "source": [
    "# 3 Gradient Descent"
   ]
  },
  {
   "cell_type": "markdown",
   "metadata": {},
   "source": [
    "Again, please fill in the functions `compute_gradient` below:"
   ]
  },
  {
   "cell_type": "code",
   "execution_count": 23,
   "metadata": {
    "collapsed": true
   },
   "outputs": [],
   "source": [
    "def compute_gradient(y, tx, w):\n",
    "    \"\"\"Compute the gradient.\"\"\"\n",
    "    \n",
    "    e = y - tx.dot(w)\n",
    "    return -1/len(y) * np.transpose(tx).dot(e)\n"
   ]
  },
  {
   "cell_type": "code",
   "execution_count": 27,
   "metadata": {},
   "outputs": [
    {
     "name": "stdout",
     "output_type": "stream",
     "text": [
      "[-0. -0.]\n",
      "[ 1.  1.]\n",
      "[ 26.706078     6.52028757]\n",
      "[-23.293922    -3.47971243]\n"
     ]
    }
   ],
   "source": [
    "# test compute_gradient\n",
    "\n",
    "my_y = np.array([1,2])\n",
    "my_tx = np.array([[1,0],[1,1]])\n",
    "print(compute_gradient(my_y, my_tx, [1,1]))  #should be [0, 0] ... OK !\n",
    "print(compute_gradient(my_y, my_tx, [1,3]))  #should be [1, 1] ... OK !\n",
    "\n",
    "print(compute_gradient(y, tx, [100,20]))\n",
    "print(compute_gradient(y, tx, [50, 10]))\n",
    "\n"
   ]
  },
  {
   "cell_type": "markdown",
   "metadata": {},
   "source": [
    "Please fill in the functions `gradient_descent` below:"
   ]
  },
  {
   "cell_type": "code",
   "execution_count": 79,
   "metadata": {
    "collapsed": true
   },
   "outputs": [],
   "source": [
    "def gradient_descent(y, tx, initial_w, max_iters, gamma):\n",
    "    \"\"\"Gradient descent algorithm.\"\"\"\n",
    "    # Define parameters to store w and loss\n",
    "    ws = [initial_w]\n",
    "    losses = []\n",
    "    w = initial_w\n",
    "    for n_iter in range(max_iters):\n",
    "        # ***************************************************\n",
    "        # INSERT YOUR CODE HERE\n",
    "        # TODO: compute gradient and loss\n",
    "        # ***************************************************\n",
    "        loss = compute_loss(y,tx,w)\n",
    "        grad = compute_gradient(y,tx,w)\n",
    "        # ***************************************************\n",
    "        # INSERT YOUR CODE HERE\n",
    "        # TODO: update w by gradient\n",
    "        # ***************************************************\n",
    "        w = w - gamma * grad \n",
    "        # store w and loss\n",
    "        ws.append(w)\n",
    "        losses.append(loss)\n",
    "        print(\"Gradient Descent({bi}/{ti}): loss={l}, w0={w0}, w1={w1}\".format(\n",
    "              bi=n_iter, ti=max_iters - 1, l=loss, w0=w[0], w1=w[1]))\n",
    "\n",
    "    return losses, ws"
   ]
  },
  {
   "cell_type": "markdown",
   "metadata": {},
   "source": [
    "Test your gradient descent function through gradient descent demo shown below:"
   ]
  },
  {
   "cell_type": "code",
   "execution_count": 87,
   "metadata": {},
   "outputs": [
    {
     "name": "stdout",
     "output_type": "stream",
     "text": [
      "Gradient Descent(0/49): loss=2829.2722244384163, w0=51.542590721811784, w1=10.132993413506092\n",
      "Gradient Descent(1/49): loss=267.0500258779424, w0=67.00536793835532, w1=13.17289143755783\n",
      "Gradient Descent(2/49): loss=36.45002800750035, w0=71.64420110331838, w1=14.084860844773326\n",
      "Gradient Descent(3/49): loss=15.696028199160633, w0=73.03585105280729, w1=14.358451666937965\n",
      "Gradient Descent(4/49): loss=13.828168216410077, w0=73.45334603765397, w1=14.440528913587356\n",
      "Gradient Descent(5/49): loss=13.660060817962522, w0=73.57859453310797, w1=14.46515208758217\n",
      "Gradient Descent(6/49): loss=13.644931152102242, w0=73.61616908174418, w1=14.472539039780616\n",
      "Gradient Descent(7/49): loss=13.643569482174817, w0=73.62744144633503, w1=14.474755125440149\n",
      "Gradient Descent(8/49): loss=13.643446931881353, w0=73.63082315571229, w1=14.47541995113801\n",
      "Gradient Descent(9/49): loss=13.643435902354941, w0=73.63183766852546, w1=14.475619398847368\n",
      "Gradient Descent(10/49): loss=13.64343490969756, w0=73.63214202236942, w1=14.475679233160175\n",
      "Gradient Descent(11/49): loss=13.643434820358397, w0=73.6322333285226, w1=14.475697183454017\n",
      "Gradient Descent(12/49): loss=13.643434812317876, w0=73.63226072036856, w1=14.47570256854217\n",
      "Gradient Descent(13/49): loss=13.64343481159423, w0=73.63226893792235, w1=14.475704184068615\n",
      "Gradient Descent(14/49): loss=13.643434811529096, w0=73.63227140318848, w1=14.475704668726548\n",
      "Gradient Descent(15/49): loss=13.643434811523234, w0=73.63227214276833, w1=14.47570481412393\n",
      "Gradient Descent(16/49): loss=13.643434811522706, w0=73.63227236464228, w1=14.475704857743143\n",
      "Gradient Descent(17/49): loss=13.64343481152266, w0=73.63227243120446, w1=14.475704870828908\n",
      "Gradient Descent(18/49): loss=13.643434811522656, w0=73.63227245117312, w1=14.475704874754637\n",
      "Gradient Descent(19/49): loss=13.643434811522656, w0=73.63227245716372, w1=14.475704875932356\n",
      "Gradient Descent(20/49): loss=13.643434811522653, w0=73.6322724589609, w1=14.475704876285672\n",
      "Gradient Descent(21/49): loss=13.643434811522656, w0=73.63227245950004, w1=14.475704876391665\n",
      "Gradient Descent(22/49): loss=13.643434811522656, w0=73.63227245966179, w1=14.475704876423464\n",
      "Gradient Descent(23/49): loss=13.643434811522654, w0=73.63227245971032, w1=14.475704876433003\n",
      "Gradient Descent(24/49): loss=13.643434811522656, w0=73.63227245972487, w1=14.475704876435865\n",
      "Gradient Descent(25/49): loss=13.643434811522656, w0=73.63227245972924, w1=14.475704876436724\n",
      "Gradient Descent(26/49): loss=13.643434811522654, w0=73.63227245973056, w1=14.475704876436982\n",
      "Gradient Descent(27/49): loss=13.643434811522654, w0=73.63227245973094, w1=14.475704876437058\n",
      "Gradient Descent(28/49): loss=13.643434811522656, w0=73.63227245973106, w1=14.475704876437081\n",
      "Gradient Descent(29/49): loss=13.643434811522654, w0=73.6322724597311, w1=14.475704876437089\n",
      "Gradient Descent(30/49): loss=13.643434811522656, w0=73.63227245973111, w1=14.47570487643709\n",
      "Gradient Descent(31/49): loss=13.643434811522656, w0=73.63227245973111, w1=14.475704876437092\n",
      "Gradient Descent(32/49): loss=13.643434811522654, w0=73.63227245973111, w1=14.475704876437092\n",
      "Gradient Descent(33/49): loss=13.643434811522654, w0=73.63227245973111, w1=14.475704876437092\n",
      "Gradient Descent(34/49): loss=13.643434811522654, w0=73.63227245973111, w1=14.475704876437092\n",
      "Gradient Descent(35/49): loss=13.643434811522654, w0=73.63227245973111, w1=14.475704876437092\n",
      "Gradient Descent(36/49): loss=13.643434811522654, w0=73.63227245973111, w1=14.475704876437092\n",
      "Gradient Descent(37/49): loss=13.643434811522654, w0=73.63227245973111, w1=14.475704876437092\n",
      "Gradient Descent(38/49): loss=13.643434811522654, w0=73.63227245973111, w1=14.475704876437092\n",
      "Gradient Descent(39/49): loss=13.643434811522654, w0=73.63227245973111, w1=14.475704876437092\n",
      "Gradient Descent(40/49): loss=13.643434811522654, w0=73.63227245973111, w1=14.475704876437092\n",
      "Gradient Descent(41/49): loss=13.643434811522654, w0=73.63227245973111, w1=14.475704876437092\n",
      "Gradient Descent(42/49): loss=13.643434811522654, w0=73.63227245973111, w1=14.475704876437092\n",
      "Gradient Descent(43/49): loss=13.643434811522654, w0=73.63227245973111, w1=14.475704876437092\n",
      "Gradient Descent(44/49): loss=13.643434811522654, w0=73.63227245973111, w1=14.475704876437092\n",
      "Gradient Descent(45/49): loss=13.643434811522654, w0=73.63227245973111, w1=14.475704876437092\n",
      "Gradient Descent(46/49): loss=13.643434811522654, w0=73.63227245973111, w1=14.475704876437092\n",
      "Gradient Descent(47/49): loss=13.643434811522654, w0=73.63227245973111, w1=14.475704876437092\n",
      "Gradient Descent(48/49): loss=13.643434811522654, w0=73.63227245973111, w1=14.475704876437092\n",
      "Gradient Descent(49/49): loss=13.643434811522654, w0=73.63227245973111, w1=14.475704876437092\n",
      "Gradient Descent: execution time=0.014 seconds\n"
     ]
    }
   ],
   "source": [
    "# from gradient_descent import *\n",
    "from plots import gradient_descent_visualization\n",
    "\n",
    "# Define the parameters of the algorithm.\n",
    "max_iters = 50\n",
    "gamma = 0.7 #0.7\n",
    "\n",
    "# Initialization\n",
    "#w_initial = np.array([0, 0])\n",
    "w_initial = np.array([0, 0])\n",
    "\n",
    "\n",
    "# Start gradient descent.\n",
    "start_time = datetime.datetime.now()\n",
    "gradient_losses, gradient_ws = gradient_descent(y, tx, w_initial, max_iters, gamma)\n",
    "end_time = datetime.datetime.now()\n",
    "\n",
    "# Print result\n",
    "exection_time = (end_time - start_time).total_seconds()\n",
    "print(\"Gradient Descent: execution time={t:.3f} seconds\".format(t=exection_time))"
   ]
  },
  {
   "cell_type": "code",
   "execution_count": 88,
   "metadata": {},
   "outputs": [
    {
     "data": {
      "application/vnd.jupyter.widget-view+json": {
       "model_id": "8d8555b092bb422f87b9383ad3f51574",
       "version_major": 2,
       "version_minor": 0
      },
      "text/plain": [
       "A Jupyter Widget"
      ]
     },
     "metadata": {},
     "output_type": "display_data"
    },
    {
     "data": {
      "text/plain": [
       "<function __main__.plot_figure>"
      ]
     },
     "execution_count": 88,
     "metadata": {},
     "output_type": "execute_result"
    }
   ],
   "source": [
    "# Time Visualization\n",
    "from ipywidgets import IntSlider, interact\n",
    "\n",
    "def plot_figure(n_iter):\n",
    "    fig = gradient_descent_visualization(\n",
    "        gradient_losses, gradient_ws, grid_losses, grid_w0, grid_w1, mean_x, std_x, height, weight, n_iter)\n",
    "    fig.set_size_inches(10.0, 6.0)\n",
    "\n",
    "interact(plot_figure, n_iter=IntSlider(min=1, max=len(gradient_ws)))"
   ]
  },
  {
   "cell_type": "markdown",
   "metadata": {},
   "source": [
    "# 4 Stochastic gradient descent"
   ]
  },
  {
   "cell_type": "code",
   "execution_count": 74,
   "metadata": {
    "collapsed": true
   },
   "outputs": [],
   "source": [
    "def compute_stoch_gradient(y, tx, w):\n",
    "    \"\"\"Compute a stochastic gradient from just few examples n and their corresponding y_n labels.\"\"\"\n",
    "    # ***************************************************\n",
    "    # INSERT YOUR CODE HERE\n",
    "    # TODO: implement stochastic gradient computation.It's same as the gradient descent.\n",
    "    # ***************************************************\n",
    "    e = y - tx.dot(w)\n",
    "    return -1/len(y) * np.transpose(tx).dot(e)\n",
    "    \n",
    "\n",
    "def stochastic_gradient_descent(\n",
    "        y, tx, initial_w, batch_size, max_iters, gamma):\n",
    "    \"\"\"Stochastic gradient descent algorithm.\"\"\"\n",
    "    \n",
    "    # Define parameters to store w and loss\n",
    "    ws = [initial_w]\n",
    "    losses = []\n",
    "    w = initial_w\n",
    "    for n_iter in range(max_iters):\n",
    "        # compute gradient and loss\n",
    "        loss = compute_loss(y,tx,w)\n",
    "        grad = [0.0,0.0]\n",
    "\n",
    "        for minibatch_y, minibatch_tx in batch_iter(y, tx, batch_size, 1, True): # runs only once\n",
    "            grad += compute_stoch_gradient(minibatch_y,minibatch_tx,w)\n",
    "        \n",
    "        w = w - gamma * grad \n",
    "        # store w and loss\n",
    "        ws.append(w)\n",
    "        losses.append(loss)\n",
    "        #print(\"Stochastic Gradient Descent({bi}/{ti}): grad={g1},{g2}, loss={l}, w0={w0}, w1={w1}\".format(\n",
    "        #      bi=n_iter, ti=max_iters - 1, g1=grad[0], g2=grad[1], l=loss, w0=w[0], w1=w[1]))\n",
    "\n",
    "    return losses, ws"
   ]
  },
  {
   "cell_type": "code",
   "execution_count": 75,
   "metadata": {},
   "outputs": [
    {
     "name": "stdout",
     "output_type": "stream",
     "text": [
      "SGD: execution time=0.096 seconds\n"
     ]
    }
   ],
   "source": [
    "# from stochastic_gradient_descent import *\n",
    "\n",
    "# Define the parameters of the algorithm.\n",
    "max_iters = 50\n",
    "gamma = 0.7\n",
    "batch_size = 10\n",
    "\n",
    "# Initialization\n",
    "w_initial = np.array([0, 0])\n",
    "\n",
    "# Start SGD.\n",
    "start_time = datetime.datetime.now()\n",
    "sgd_losses, sgd_ws = stochastic_gradient_descent(\n",
    "    y, tx, w_initial, batch_size, max_iters, gamma)\n",
    "end_time = datetime.datetime.now()\n",
    "\n",
    "# Print result\n",
    "exection_time = (end_time - start_time).total_seconds()\n",
    "print(\"SGD: execution time={t:.3f} seconds\".format(t=exection_time))"
   ]
  },
  {
   "cell_type": "code",
   "execution_count": 76,
   "metadata": {},
   "outputs": [
    {
     "data": {
      "application/vnd.jupyter.widget-view+json": {
       "model_id": "5681b0ec10594d0c9567f2c6ba9e1e31",
       "version_major": 2,
       "version_minor": 0
      },
      "text/plain": [
       "A Jupyter Widget"
      ]
     },
     "metadata": {},
     "output_type": "display_data"
    },
    {
     "data": {
      "text/plain": [
       "<function __main__.plot_figure>"
      ]
     },
     "execution_count": 76,
     "metadata": {},
     "output_type": "execute_result"
    }
   ],
   "source": [
    "# Time Visualization\n",
    "from ipywidgets import IntSlider, interact\n",
    "def plot_figure(n_iter):\n",
    "    fig = gradient_descent_visualization(\n",
    "        sgd_losses, sgd_ws, grid_losses, grid_w0, grid_w1, mean_x, std_x, height, weight, n_iter)\n",
    "    fig.set_size_inches(10.0, 6.0)\n",
    "\n",
    "interact(plot_figure, n_iter=IntSlider(min=1, max=len(gradient_ws)))"
   ]
  },
  {
   "cell_type": "markdown",
   "metadata": {},
   "source": [
    "# 5 Effect of Outliers and MAE Cost Function, and Subgradient Descent"
   ]
  },
  {
   "cell_type": "markdown",
   "metadata": {},
   "source": [
    "### Exercise 5\n",
    "\n",
    "Load and plot data containing outliers"
   ]
  },
  {
   "cell_type": "code",
   "execution_count": 94,
   "metadata": {
    "collapsed": true
   },
   "outputs": [],
   "source": [
    "height, weight, gender = load_data(sub_sample=False, add_outlier=False)\n",
    "x, mean_x, std_x = standardize(height)\n",
    "y, tx = build_model_data(x, weight)"
   ]
  },
  {
   "cell_type": "markdown",
   "metadata": {},
   "source": [
    "### Exercise 6"
   ]
  },
  {
   "cell_type": "markdown",
   "metadata": {},
   "source": [
    "Modify the function `compute_loss(y, tx, w)` for the Mean Absolute Error cost function [here](#compute_loss)"
   ]
  }
 ],
 "metadata": {
  "anaconda-cloud": {},
  "kernelspec": {
   "display_name": "Python 3",
   "language": "python",
   "name": "python3"
  },
  "language_info": {
   "codemirror_mode": {
    "name": "ipython",
    "version": 3
   },
   "file_extension": ".py",
   "mimetype": "text/x-python",
   "name": "python",
   "nbconvert_exporter": "python",
   "pygments_lexer": "ipython3",
   "version": "3.6.2"
  }
 },
 "nbformat": 4,
 "nbformat_minor": 1
}
