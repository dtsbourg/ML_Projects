{
 "cells": [
  {
   "cell_type": "code",
   "execution_count": 1,
   "metadata": {
    "collapsed": true
   },
   "outputs": [],
   "source": [
    "%matplotlib inline\n",
    "import numpy as np\n",
    "import matplotlib.pyplot as plt\n",
    "%load_ext autoreload\n",
    "%autoreload 2"
   ]
  },
  {
   "cell_type": "markdown",
   "metadata": {},
   "source": [
    "Data Generation\n",
    "==="
   ]
  },
  {
   "cell_type": "code",
   "execution_count": 2,
   "metadata": {},
   "outputs": [
    {
     "name": "stdout",
     "output_type": "stream",
     "text": [
      "[[ 0.77132064  0.02075195]\n",
      " [ 0.63364823  0.74880388]\n",
      " [ 0.49850701  0.22479665]\n",
      " [ 0.19806286  0.76053071]] \n",
      "\n",
      " [[ 0.16911084  0.08833981]\n",
      " [ 0.68535982  0.95339335]\n",
      " [ 0.00394827  0.51219226]\n",
      " [ 0.81262096  0.61252607]\n",
      " [ 0.72175532  0.29187607]]\n"
     ]
    }
   ],
   "source": [
    "np.random.seed(10)\n",
    "p, q = (np.random.rand(i, 2) for i in (4, 5))\n",
    "p_big, q_big = (np.random.rand(i, 80) for i in (100, 120))\n",
    "\n",
    "print(p, \"\\n\\n\", q)"
   ]
  },
  {
   "cell_type": "markdown",
   "metadata": {},
   "source": [
    "Solution\n",
    "==="
   ]
  },
  {
   "cell_type": "code",
   "execution_count": 62,
   "metadata": {
    "collapsed": true
   },
   "outputs": [],
   "source": [
    "def naive(p, q):\n",
    "    D = np.empty([len(p), len(q)])\n",
    "    for i in range(0, len(p)-1):\n",
    "        for j in range(0,len(q)-1):\n",
    "            temp = np.sqrt(np.power(p[i,0]-q[j,0],2) + np.power(p[i,1]-q[j,1],2))\n",
    "            D[i][j] = temp\n",
    "            \n",
    "    return D\n",
    "    ''' fill your code in here...\n",
    "    '''\n",
    "    "
   ]
  },
  {
   "cell_type": "markdown",
   "metadata": {},
   "source": [
    "### Use matching indices\n",
    "\n",
    "Instead of iterating through indices, one can use them directly to parallelize the operations with Numpy."
   ]
  },
  {
   "cell_type": "raw",
   "metadata": {},
   "source": []
  },
  {
   "cell_type": "code",
   "execution_count": 63,
   "metadata": {},
   "outputs": [
    {
     "name": "stdout",
     "output_type": "stream",
     "text": [
      "[[0 0 0 0 0]\n",
      " [1 1 1 1 1]\n",
      " [2 2 2 2 2]\n",
      " [3 3 3 3 3]]\n",
      "\n",
      "[[0 1 2 3 4]\n",
      " [0 1 2 3 4]\n",
      " [0 1 2 3 4]\n",
      " [0 1 2 3 4]]\n"
     ]
    }
   ],
   "source": [
    "rows, cols = np.indices((p.shape[0], q.shape[0]))\n",
    "print(rows, end='\\n\\n')\n",
    "print(cols)"
   ]
  },
  {
   "cell_type": "code",
   "execution_count": 64,
   "metadata": {},
   "outputs": [
    {
     "name": "stdout",
     "output_type": "stream",
     "text": [
      "[[ 0.77132064  0.02075195]\n",
      " [ 0.77132064  0.02075195]\n",
      " [ 0.77132064  0.02075195]\n",
      " [ 0.77132064  0.02075195]\n",
      " [ 0.77132064  0.02075195]\n",
      " [ 0.63364823  0.74880388]\n",
      " [ 0.63364823  0.74880388]\n",
      " [ 0.63364823  0.74880388]\n",
      " [ 0.63364823  0.74880388]\n",
      " [ 0.63364823  0.74880388]\n",
      " [ 0.49850701  0.22479665]\n",
      " [ 0.49850701  0.22479665]\n",
      " [ 0.49850701  0.22479665]\n",
      " [ 0.49850701  0.22479665]\n",
      " [ 0.49850701  0.22479665]\n",
      " [ 0.19806286  0.76053071]\n",
      " [ 0.19806286  0.76053071]\n",
      " [ 0.19806286  0.76053071]\n",
      " [ 0.19806286  0.76053071]\n",
      " [ 0.19806286  0.76053071]]\n",
      "\n",
      "[[ 0.16911084  0.08833981]\n",
      " [ 0.68535982  0.95339335]\n",
      " [ 0.00394827  0.51219226]\n",
      " [ 0.81262096  0.61252607]\n",
      " [ 0.72175532  0.29187607]\n",
      " [ 0.16911084  0.08833981]\n",
      " [ 0.68535982  0.95339335]\n",
      " [ 0.00394827  0.51219226]\n",
      " [ 0.81262096  0.61252607]\n",
      " [ 0.72175532  0.29187607]\n",
      " [ 0.16911084  0.08833981]\n",
      " [ 0.68535982  0.95339335]\n",
      " [ 0.00394827  0.51219226]\n",
      " [ 0.81262096  0.61252607]\n",
      " [ 0.72175532  0.29187607]\n",
      " [ 0.16911084  0.08833981]\n",
      " [ 0.68535982  0.95339335]\n",
      " [ 0.00394827  0.51219226]\n",
      " [ 0.81262096  0.61252607]\n",
      " [ 0.72175532  0.29187607]]\n"
     ]
    }
   ],
   "source": [
    "print(p[rows.ravel()], end='\\n\\n')\n",
    "print(q[cols.ravel()])"
   ]
  },
  {
   "cell_type": "code",
   "execution_count": 78,
   "metadata": {
    "collapsed": true
   },
   "outputs": [],
   "source": [
    "def with_indices(p, q):\n",
    "    ''' fill your code in here...\n",
    "    '''\n",
    "    tempD = p[rows.ravel()] - q[cols.ravel()]\n",
    "    print(tempD)\n",
    "    tempD = np.power(tempD,2)\n",
    "    print(tempD)\n",
    "    D = tempD[:,0] + tempD[:,1]\n",
    "    print(D)\n",
    "    D = np.sqrt(D)\n",
    "    print(D)\n",
    "    \n",
    "    "
   ]
  },
  {
   "cell_type": "code",
   "execution_count": 79,
   "metadata": {},
   "outputs": [
    {
     "name": "stdout",
     "output_type": "stream",
     "text": [
      "[[ 0.60220981 -0.06758786]\n",
      " [ 0.08596082 -0.9326414 ]\n",
      " [ 0.76737238 -0.49144031]\n",
      " [-0.04130032 -0.59177412]\n",
      " [ 0.04956533 -0.27112412]\n",
      " [ 0.4645374   0.66046407]\n",
      " [-0.05171158 -0.20458946]\n",
      " [ 0.62969997  0.23661162]\n",
      " [-0.17897273  0.13627782]\n",
      " [-0.08810708  0.45692781]\n",
      " [ 0.32939618  0.13645683]\n",
      " [-0.18685281 -0.7285967 ]\n",
      " [ 0.49455875 -0.28739562]\n",
      " [-0.31411395 -0.38772942]\n",
      " [-0.22324831 -0.06707942]\n",
      " [ 0.02895203  0.6721909 ]\n",
      " [-0.48729695 -0.19286263]\n",
      " [ 0.1941146   0.24833845]\n",
      " [-0.6145581   0.14800465]\n",
      " [-0.52369245  0.46865464]]\n",
      "[[  3.62656651e-01   4.56811947e-03]\n",
      " [  7.38926342e-03   8.69819975e-01]\n",
      " [  5.88860365e-01   2.41513582e-01]\n",
      " [  1.70571630e-03   3.50196606e-01]\n",
      " [  2.45672153e-03   7.35082878e-02]\n",
      " [  2.15794994e-01   4.36212786e-01]\n",
      " [  2.67408786e-03   4.18568486e-02]\n",
      " [  3.96522050e-01   5.59850583e-02]\n",
      " [  3.20312369e-02   1.85716431e-02]\n",
      " [  7.76285799e-03   2.08783028e-01]\n",
      " [  1.08501841e-01   1.86204668e-02]\n",
      " [  3.49139711e-02   5.30853152e-01]\n",
      " [  2.44588353e-01   8.25962412e-02]\n",
      " [  9.86675732e-02   1.50334104e-01]\n",
      " [  4.98398057e-02   4.49964894e-03]\n",
      " [  8.38219937e-04   4.51840603e-01]\n",
      " [  2.37458321e-01   3.71959956e-02]\n",
      " [  3.76804773e-02   6.16719852e-02]\n",
      " [  3.77681654e-01   2.19053751e-02]\n",
      " [  2.74253785e-01   2.19637175e-01]]\n",
      "[ 0.36722477  0.87720924  0.83037395  0.35190232  0.07596501  0.65200778\n",
      "  0.04453094  0.45250711  0.05060288  0.21654589  0.12712231  0.56576712\n",
      "  0.32718459  0.24900168  0.05433945  0.45267882  0.27465432  0.09935246\n",
      "  0.39958703  0.49389096]\n",
      "[ 0.60599073  0.93659449  0.91124856  0.59321356  0.27561751  0.80746999\n",
      "  0.21102354  0.67268649  0.22495084  0.46534491  0.35654215  0.75217493\n",
      "  0.57200052  0.49900068  0.23310825  0.67281411  0.52407472  0.31520226\n",
      "  0.63212897  0.70277376]\n"
     ]
    }
   ],
   "source": [
    "with_indices(p,q)"
   ]
  },
  {
   "cell_type": "markdown",
   "metadata": {},
   "source": [
    "### Use a library\n",
    "\n",
    "`scipy` is the equivalent of matlab toolboxes and have a lot to offer. Actually the pairwise computation is part of the library through the `spatial` module."
   ]
  },
  {
   "cell_type": "code",
   "execution_count": 70,
   "metadata": {
    "collapsed": true
   },
   "outputs": [],
   "source": [
    "from scipy.spatial.distance import cdist\n",
    "\n",
    "def scipy_version(p, q):\n",
    "    return cdist(p, q)"
   ]
  },
  {
   "cell_type": "markdown",
   "metadata": {},
   "source": [
    "### Numpy Magic"
   ]
  },
  {
   "cell_type": "code",
   "execution_count": 71,
   "metadata": {
    "collapsed": true
   },
   "outputs": [],
   "source": [
    "def tensor_broadcasting(p, q):\n",
    "    return np.sqrt(np.sum((p[:,np.newaxis,:]-q[np.newaxis,:,:])**2, axis=2))"
   ]
  },
  {
   "cell_type": "markdown",
   "metadata": {},
   "source": [
    "# Compare methods"
   ]
  },
  {
   "cell_type": "code",
   "execution_count": 72,
   "metadata": {},
   "outputs": [
    {
     "name": "stdout",
     "output_type": "stream",
     "text": [
      "84.9 ms ± 4.23 ms per loop (mean ± std. dev. of 7 runs, 10 loops each)\n",
      "65 µs ± 922 ns per loop (mean ± std. dev. of 7 runs, 10000 loops each)\n",
      "843 µs ± 7.98 µs per loop (mean ± std. dev. of 7 runs, 1000 loops each)\n",
      "5.09 ms ± 28.9 µs per loop (mean ± std. dev. of 7 runs, 100 loops each)\n"
     ]
    }
   ],
   "source": [
    "methods = [naive, with_indices, scipy_version, tensor_broadcasting]\n",
    "timers = []\n",
    "for f in methods:\n",
    "    r = %timeit -o f(p_big, q_big)\n",
    "    timers.append(r)"
   ]
  },
  {
   "cell_type": "code",
   "execution_count": 73,
   "metadata": {},
   "outputs": [
    {
     "data": {
      "image/png": "[encoded data removed]",
      "text/plain": [
       "<matplotlib.figure.Figure at 0x114a57470>"
      ]
     },
     "metadata": {},
     "output_type": "display_data"
    }
   ],
   "source": [
    "plt.figure(figsize=(10,6))\n",
    "plt.bar(np.arange(len(methods)), [r.best*1000 for r in timers], log=False)  # Set log to True for logarithmic scale\n",
    "plt.xticks(np.arange(len(methods))+0.2, [f.__name__ for f in methods], rotation=30)\n",
    "plt.xlabel('Method')\n",
    "plt.ylabel('Time (ms)')\n",
    "plt.show()"
   ]
  },
  {
   "cell_type": "code",
   "execution_count": null,
   "metadata": {
    "collapsed": true
   },
   "outputs": [],
   "source": []
  }
 ],
 "metadata": {
  "kernelspec": {
   "display_name": "Python 3",
   "language": "python",
   "name": "python3"
  },
  "language_info": {
   "codemirror_mode": {
    "name": "ipython",
    "version": 3
   },
   "file_extension": ".py",
   "mimetype": "text/x-python",
   "name": "python",
   "nbconvert_exporter": "python",
   "pygments_lexer": "ipython3",
   "version": "3.6.2"
  }
 },
 "nbformat": 4,
 "nbformat_minor": 1
}
