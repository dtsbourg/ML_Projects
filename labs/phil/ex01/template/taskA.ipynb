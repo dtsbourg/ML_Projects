{
 "cells": [
  {
   "cell_type": "code",
   "execution_count": 2,
   "metadata": {
    "collapsed": true
   },
   "outputs": [],
   "source": [
    "%matplotlib inline\n",
    "import numpy as np\n",
    "import matplotlib.pyplot as plt\n",
    "%load_ext autoreload\n",
    "%autoreload 2"
   ]
  },
  {
   "cell_type": "markdown",
   "metadata": {},
   "source": [
    "Data Generation\n",
    "==="
   ]
  },
  {
   "cell_type": "code",
   "execution_count": 3,
   "metadata": {
    "collapsed": true
   },
   "outputs": [],
   "source": [
    "num_samples, num_features = 10, 5"
   ]
  },
  {
   "cell_type": "code",
   "execution_count": 4,
   "metadata": {
    "collapsed": true
   },
   "outputs": [],
   "source": [
    "np.random.seed(10)\n",
    "data = np.random.rand(num_samples, num_features)"
   ]
  },
  {
   "cell_type": "markdown",
   "metadata": {},
   "source": [
    "Solution\n",
    "==="
   ]
  },
  {
   "cell_type": "code",
   "execution_count": 5,
   "metadata": {
    "scrolled": false
   },
   "outputs": [
    {
     "name": "stdout",
     "output_type": "stream",
     "text": [
      "[[ 0.77132064  0.02075195  0.63364823  0.74880388  0.49850701]\n",
      " [ 0.22479665  0.19806286  0.76053071  0.16911084  0.08833981]\n",
      " [ 0.68535982  0.95339335  0.00394827  0.51219226  0.81262096]\n",
      " [ 0.61252607  0.72175532  0.29187607  0.91777412  0.71457578]\n",
      " [ 0.54254437  0.14217005  0.37334076  0.67413362  0.44183317]\n",
      " [ 0.43401399  0.61776698  0.51313824  0.65039718  0.60103895]\n",
      " [ 0.8052232   0.52164715  0.90864888  0.31923609  0.09045935]\n",
      " [ 0.30070006  0.11398436  0.82868133  0.04689632  0.62628715]\n",
      " [ 0.54758616  0.819287    0.19894754  0.8568503   0.35165264]\n",
      " [ 0.75464769  0.29596171  0.88393648  0.32551164  0.1650159 ]]\n"
     ]
    }
   ],
   "source": [
    "print(data)"
   ]
  },
  {
   "cell_type": "code",
   "execution_count": null,
   "metadata": {},
   "outputs": [],
   "source": []
  },
  {
   "cell_type": "code",
   "execution_count": 25,
   "metadata": {},
   "outputs": [
    {
     "name": "stdout",
     "output_type": "stream",
     "text": [
      "[[ 0.20344878 -0.41972612  0.09397858  0.22671326  0.05947394]\n",
      " [-0.34307522 -0.24241521  0.22086106 -0.35297979 -0.35069326]\n",
      " [ 0.11748795  0.51291527 -0.53572138 -0.00989836  0.37358789]\n",
      " [ 0.0446542   0.28127725 -0.24779358  0.3956835   0.27554271]\n",
      " [-0.0253275  -0.29830802 -0.16632889  0.15204299  0.0028001 ]\n",
      " [-0.13385787  0.17728891 -0.02653141  0.12830656  0.16200588]\n",
      " [ 0.23735133  0.08116908  0.36897923 -0.20285454 -0.34857372]\n",
      " [-0.26717181 -0.32649371  0.28901168 -0.47519431  0.18725407]\n",
      " [-0.02028571  0.37880892 -0.34072211  0.33475968 -0.08738043]\n",
      " [ 0.18677583 -0.14451637  0.34426683 -0.19657899 -0.27401718]]\n",
      "[ 0.18880201  0.31226926  0.29810476  0.28105224  0.24648668]\n",
      "(10, 5)\n",
      "(10, 5)\n",
      "(5,)\n"
     ]
    }
   ],
   "source": [
    "def standardize(x):\n",
    "    \n",
    "    mymeans = np.mean(x, axis=0)\n",
    "    x_centered = x - mymeans\n",
    "    x_std_centered = x_centered / np.std(x_centered, axis = 0)\n",
    "    print(x_centered)\n",
    "    print(np.std(x_centered, axis = 0))\n",
    "    print(np.shape(x_std_centered))\n",
    "    print(np.shape(x_centered))\n",
    "    print(np.shape(np.std(x_centered, axis = 0)))\n",
    "   # print([[1.0,2.0],[3.0,4.0]] / [[1.0], [1.0]])    # Pourquoi cette ligne ne marche pas?\n",
    "    \n",
    "    return x_std_centered\n",
    "\n",
    "std_data = standardize(data)"
   ]
  },
  {
   "cell_type": "code",
   "execution_count": 26,
   "metadata": {},
   "outputs": [
    {
     "name": "stdout",
     "output_type": "stream",
     "text": [
      "[[ 1.0775774  -1.34411605  0.31525355  0.80665878  0.24128662]\n",
      " [-1.81711634 -0.77630186  0.74088404 -1.25592235 -1.42276759]\n",
      " [ 0.62228127  1.64254169 -1.797091   -0.03521894  1.51565143]\n",
      " [ 0.23651339  0.90075228 -0.83122987  1.40786459  1.11788073]\n",
      " [-0.13414844 -0.95529104 -0.55795449  0.54097769  0.01136005]\n",
      " [-0.70898541  0.56774371 -0.08900028  0.45652209  0.65726018]\n",
      " [ 1.2571441   0.25993298  1.23775021 -0.72176808 -1.4141686 ]\n",
      " [-1.41508984 -1.04555188  0.96949701 -1.69076861  0.75969247]\n",
      " [-0.10744434  1.21308427 -1.14296098  1.19109415 -0.35450368]\n",
      " [ 0.98926822 -0.46279408  1.15485183 -0.69943932 -1.11169162]] \n",
      "\n",
      " [ -1.88737914e-16   5.55111512e-17  -2.22044605e-17   1.11022302e-17\n",
      "   2.44249065e-16] \n",
      "\n",
      " [ 1.  1.  1.  1.  1.]\n"
     ]
    }
   ],
   "source": [
    "print(std_data, \"\\n\\n\", np.mean(std_data, axis=0), \"\\n\\n\", np.std(std_data, axis=0))"
   ]
  },
  {
   "cell_type": "code",
   "execution_count": null,
   "metadata": {
    "collapsed": true
   },
   "outputs": [],
   "source": []
  },
  {
   "cell_type": "code",
   "execution_count": null,
   "metadata": {
    "collapsed": true
   },
   "outputs": [],
   "source": []
  },
  {
   "cell_type": "code",
   "execution_count": null,
   "metadata": {
    "collapsed": true
   },
   "outputs": [],
   "source": []
  }
 ],
 "metadata": {
  "kernelspec": {
   "display_name": "Python 3",
   "language": "python",
   "name": "python3"
  }
 },
 "nbformat": 4,
 "nbformat_minor": 1
}
