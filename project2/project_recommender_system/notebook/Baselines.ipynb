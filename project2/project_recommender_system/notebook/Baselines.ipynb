{
 "cells": [
  {
   "cell_type": "code",
   "execution_count": 1,
   "metadata": {
    "collapsed": true
   },
   "outputs": [],
   "source": [
    "import pandas as pd\n",
    "import numpy as np\n",
    "import os\n",
    "import sys\n",
    "import pickle\n",
    "import time\n",
    "\n",
    "from sklearn.metrics import mean_squared_error\n",
    "import math\n",
    "import statistics as stat"
   ]
  },
  {
   "cell_type": "markdown",
   "metadata": {},
   "source": [
    "# Loading Train and test sets "
   ]
  },
  {
   "cell_type": "code",
   "execution_count": 2,
   "metadata": {
    "collapsed": false
   },
   "outputs": [],
   "source": [
    "def load_csv(filename):\n",
    "\n",
    "    df = pd.read_csv(filename)\n",
    "    df['User'] = df['Id'].apply(lambda x: int(x.split('_')[0][1:]))\n",
    "    df['Movie'] = df['Id'].apply(lambda x: int(x.split('_')[1][1:]))\n",
    "    df['Rating'] = df['Prediction']\n",
    "    df = df.drop(['Id', 'Prediction'], axis=1)\n",
    "    return df"
   ]
  },
  {
   "cell_type": "code",
   "execution_count": 3,
   "metadata": {
    "collapsed": false
   },
   "outputs": [],
   "source": [
    "train = load_csv('../data/data/data_train.csv')\n",
    "test = load_csv('../data/data/sampleSubmission.csv')"
   ]
  },
  {
   "cell_type": "code",
   "execution_count": 4,
   "metadata": {
    "collapsed": false
   },
   "outputs": [
    {
     "data": {
      "text/html": [
       "<div>\n",
       "<table border=\"1\" class=\"dataframe\">\n",
       "  <thead>\n",
       "    <tr style=\"text-align: right;\">\n",
       "      <th></th>\n",
       "      <th>User</th>\n",
       "      <th>Movie</th>\n",
       "      <th>Rating</th>\n",
       "    </tr>\n",
       "  </thead>\n",
       "  <tbody>\n",
       "    <tr>\n",
       "      <th>0</th>\n",
       "      <td>44</td>\n",
       "      <td>1</td>\n",
       "      <td>4</td>\n",
       "    </tr>\n",
       "    <tr>\n",
       "      <th>1</th>\n",
       "      <td>61</td>\n",
       "      <td>1</td>\n",
       "      <td>3</td>\n",
       "    </tr>\n",
       "    <tr>\n",
       "      <th>2</th>\n",
       "      <td>67</td>\n",
       "      <td>1</td>\n",
       "      <td>4</td>\n",
       "    </tr>\n",
       "    <tr>\n",
       "      <th>3</th>\n",
       "      <td>72</td>\n",
       "      <td>1</td>\n",
       "      <td>3</td>\n",
       "    </tr>\n",
       "    <tr>\n",
       "      <th>4</th>\n",
       "      <td>86</td>\n",
       "      <td>1</td>\n",
       "      <td>5</td>\n",
       "    </tr>\n",
       "  </tbody>\n",
       "</table>\n",
       "</div>"
      ],
      "text/plain": [
       "   User  Movie  Rating\n",
       "0    44      1       4\n",
       "1    61      1       3\n",
       "2    67      1       4\n",
       "3    72      1       3\n",
       "4    86      1       5"
      ]
     },
     "execution_count": 4,
     "metadata": {},
     "output_type": "execute_result"
    }
   ],
   "source": [
    "train.head()"
   ]
  },
  {
   "cell_type": "code",
   "execution_count": 5,
   "metadata": {
    "collapsed": false
   },
   "outputs": [
    {
     "data": {
      "text/plain": [
       "['User', 'Movie', 'Rating']"
      ]
     },
     "execution_count": 5,
     "metadata": {},
     "output_type": "execute_result"
    }
   ],
   "source": [
    "list(train.columns.values)"
   ]
  },
  {
   "cell_type": "markdown",
   "metadata": {
    "collapsed": true
   },
   "source": [
    "### Useful global variables :"
   ]
  },
  {
   "cell_type": "code",
   "execution_count": 6,
   "metadata": {
    "collapsed": true
   },
   "outputs": [],
   "source": [
    "median = train['Rating'].median()\n",
    "mean = train['Rating'].mean()"
   ]
  },
  {
   "cell_type": "markdown",
   "metadata": {},
   "source": [
    "# Creating users and movies dataframe\n",
    "\n",
    "To be filled with interesting informations (such as mean, median, ...)"
   ]
  },
  {
   "cell_type": "code",
   "execution_count": 7,
   "metadata": {
    "collapsed": false
   },
   "outputs": [],
   "source": [
    "users = pd.DataFrame(index = range(10000), columns=['User', 'Mean'])\n",
    "movies = pd.DataFrame(index = range(1000), columns=['Movie', 'Mean'])"
   ]
  },
  {
   "cell_type": "code",
   "execution_count": 8,
   "metadata": {
    "collapsed": false
   },
   "outputs": [],
   "source": [
    "for i in range(0, 10000):\n",
    "    users.set_value(i,'User',i+1)\n",
    "    \n",
    "for i in range(0, 1000):\n",
    "    movies.set_value(i,'Movie',i+1)"
   ]
  },
  {
   "cell_type": "markdown",
   "metadata": {},
   "source": [
    "### Set of useful functions to get intersting informations about users and movies"
   ]
  },
  {
   "cell_type": "code",
   "execution_count": 9,
   "metadata": {
    "collapsed": true
   },
   "outputs": [],
   "source": [
    "def dict_mean_user(df):\n",
    "    \"\"\" dictionary with key UserID and value User Mean \"\"\"\n",
    "    return dict(df.groupby('User').mean().Rating)\n",
    "\n",
    "def dict_mean_movie(df):\n",
    "    \"\"\" dictionary with key UserID and value Movie Mean \"\"\"\n",
    "    return dict(df.groupby('Movie').mean().Rating)\n",
    "\n",
    "def dict_median_user(df):\n",
    "    \"\"\" dictionary with key UserID and value User Mean \"\"\"\n",
    "    return dict(df.groupby('User').median().Rating)\n",
    "\n",
    "def dict_median_movie(df):\n",
    "    \"\"\" dictionary with key UserID and value Movie Mean \"\"\"\n",
    "    return dict(df.groupby('Movie').median().Rating)"
   ]
  },
  {
   "cell_type": "code",
   "execution_count": 10,
   "metadata": {
    "collapsed": false
   },
   "outputs": [],
   "source": [
    "mean_u = dict_mean_user(train)\n",
    "\n",
    "for i in range(0,10000):\n",
    "    users.set_value(i,'Mean',list(mean_u.values())[i])"
   ]
  },
  {
   "cell_type": "code",
   "execution_count": 11,
   "metadata": {
    "collapsed": false
   },
   "outputs": [],
   "source": [
    "mean_m = dict_mean_movie(train)\n",
    "\n",
    "for i in range(1000):\n",
    "    movies.set_value(i,'Mean',list(mean_m.values())[i])"
   ]
  },
  {
   "cell_type": "code",
   "execution_count": 12,
   "metadata": {
    "collapsed": false
   },
   "outputs": [],
   "source": [
    "median_u = dict_median_user(train)\n",
    "\n",
    "for i in range(0,10000):\n",
    "    users.set_value(i,'Median',list(median_u.values())[i])"
   ]
  },
  {
   "cell_type": "code",
   "execution_count": 13,
   "metadata": {
    "collapsed": true
   },
   "outputs": [],
   "source": [
    "median_m = dict_median_movie(train)\n",
    "\n",
    "for i in range(1000):\n",
    "    movies.set_value(i,'Median',list(median_m.values())[i])"
   ]
  },
  {
   "cell_type": "markdown",
   "metadata": {},
   "source": [
    "### Reg Lin for Movie Ratings\n",
    "\n",
    "Investigated as there was a high correlation between movie mean and number of rating"
   ]
  },
  {
   "cell_type": "code",
   "execution_count": 14,
   "metadata": {
    "collapsed": true
   },
   "outputs": [],
   "source": [
    "def dict_nbrating_movie(df):\n",
    "    \"\"\" dictionary with key UserID and value Movie Mean \"\"\"\n",
    "    return dict(df.groupby('Movie').count().Rating)"
   ]
  },
  {
   "cell_type": "code",
   "execution_count": 15,
   "metadata": {
    "collapsed": true
   },
   "outputs": [],
   "source": [
    "nbrating_m = dict_nbrating_movie(train)\n",
    "\n",
    "for i in range(1000):\n",
    "    movies.set_value(i,'Nb Ratings',list(nbrating_m.values())[i])"
   ]
  },
  {
   "cell_type": "code",
   "execution_count": 16,
   "metadata": {
    "collapsed": false
   },
   "outputs": [],
   "source": [
    "m, b = np.polyfit(movies['Nb Ratings'],movies['Mean'], 1)"
   ]
  },
  {
   "cell_type": "code",
   "execution_count": 17,
   "metadata": {
    "collapsed": true
   },
   "outputs": [],
   "source": [
    "for i in range(1000):\n",
    "    movies.set_value(i,'Reg Lin Value',m * movies['Nb Ratings'][i] + b)"
   ]
  },
  {
   "cell_type": "markdown",
   "metadata": {},
   "source": [
    "# Updating train dataframe and computing RMSE\n",
    "\n",
    "** / ! \\ Next window takes time to execute **"
   ]
  },
  {
   "cell_type": "code",
   "execution_count": 18,
   "metadata": {
    "collapsed": false
   },
   "outputs": [],
   "source": [
    "for index, row in train.iterrows():\n",
    "    train.set_value(index, 'User_Mean', users.iloc[int(train.iloc[index]['User'])-1]['Mean'])\n",
    "    train.set_value(index, 'Movie_Mean', movies.iloc[int(train.iloc[index]['Movie'])-1]['Mean'])\n",
    "    \n",
    "    train.set_value(index, 'Global_Mean', mean)\n",
    "    train.set_value(index, 'Global_Median', median)\n",
    "\n",
    "    train.set_value(index, 'User_Median', users.iloc[int(train.iloc[index]['User'])-1]['Median'])\n",
    "    train.set_value(index, 'Movie_Median', movies.iloc[int(train.iloc[index]['Movie'])-1]['Median'])\n",
    "    \n",
    "    train.set_value(index, 'Movie_RegLin', movies.iloc[int(train.iloc[index]['Movie'])-1]['Reg Lin Value'])"
   ]
  },
  {
   "cell_type": "code",
   "execution_count": 19,
   "metadata": {
    "collapsed": true
   },
   "outputs": [],
   "source": [
    "rmse_user_mean = math.sqrt(mean_squared_error(train['User_Mean'], train['Rating']))\n",
    "rmse_movie_mean = math.sqrt(mean_squared_error(train['Movie_Mean'], train['Rating']))\n",
    "\n",
    "rmse_global_mean = math.sqrt(mean_squared_error(train['Global_Mean'], train['Rating']))\n",
    "rmse_global_median =  math.sqrt(mean_squared_error(train['Global_Median'], train['Rating']))\n",
    "\n",
    "rmse_user_median = math.sqrt(mean_squared_error(train['User_Median'], train['Rating']))\n",
    "rmse_movie_median = math.sqrt(mean_squared_error(train['Movie_Median'], train['Rating']))\n",
    "\n",
    "rmse_movie_reg_lin = math.sqrt(mean_squared_error(train['Movie_RegLin'], train['Rating']))"
   ]
  },
  {
   "cell_type": "code",
   "execution_count": 20,
   "metadata": {
    "collapsed": false
   },
   "outputs": [
    {
     "data": {
      "text/html": [
       "<div>\n",
       "<table border=\"1\" class=\"dataframe\">\n",
       "  <thead>\n",
       "    <tr style=\"text-align: right;\">\n",
       "      <th></th>\n",
       "      <th>User</th>\n",
       "      <th>Movie</th>\n",
       "      <th>Rating</th>\n",
       "      <th>User_Mean</th>\n",
       "      <th>Movie_Mean</th>\n",
       "      <th>Global_Mean</th>\n",
       "      <th>Global_Median</th>\n",
       "      <th>User_Median</th>\n",
       "      <th>Movie_Median</th>\n",
       "      <th>Movie_RegLin</th>\n",
       "    </tr>\n",
       "  </thead>\n",
       "  <tbody>\n",
       "    <tr>\n",
       "      <th>0</th>\n",
       "      <td>44</td>\n",
       "      <td>1</td>\n",
       "      <td>4</td>\n",
       "      <td>3.893701</td>\n",
       "      <td>3.379412</td>\n",
       "      <td>3.857281</td>\n",
       "      <td>4.0</td>\n",
       "      <td>4.0</td>\n",
       "      <td>3.0</td>\n",
       "      <td>3.328395</td>\n",
       "    </tr>\n",
       "    <tr>\n",
       "      <th>1</th>\n",
       "      <td>61</td>\n",
       "      <td>1</td>\n",
       "      <td>3</td>\n",
       "      <td>4.233696</td>\n",
       "      <td>3.379412</td>\n",
       "      <td>3.857281</td>\n",
       "      <td>4.0</td>\n",
       "      <td>4.5</td>\n",
       "      <td>3.0</td>\n",
       "      <td>3.328395</td>\n",
       "    </tr>\n",
       "    <tr>\n",
       "      <th>2</th>\n",
       "      <td>67</td>\n",
       "      <td>1</td>\n",
       "      <td>4</td>\n",
       "      <td>3.580645</td>\n",
       "      <td>3.379412</td>\n",
       "      <td>3.857281</td>\n",
       "      <td>4.0</td>\n",
       "      <td>4.0</td>\n",
       "      <td>3.0</td>\n",
       "      <td>3.328395</td>\n",
       "    </tr>\n",
       "    <tr>\n",
       "      <th>3</th>\n",
       "      <td>72</td>\n",
       "      <td>1</td>\n",
       "      <td>3</td>\n",
       "      <td>3.861423</td>\n",
       "      <td>3.379412</td>\n",
       "      <td>3.857281</td>\n",
       "      <td>4.0</td>\n",
       "      <td>4.0</td>\n",
       "      <td>3.0</td>\n",
       "      <td>3.328395</td>\n",
       "    </tr>\n",
       "    <tr>\n",
       "      <th>4</th>\n",
       "      <td>86</td>\n",
       "      <td>1</td>\n",
       "      <td>5</td>\n",
       "      <td>4.103321</td>\n",
       "      <td>3.379412</td>\n",
       "      <td>3.857281</td>\n",
       "      <td>4.0</td>\n",
       "      <td>4.0</td>\n",
       "      <td>3.0</td>\n",
       "      <td>3.328395</td>\n",
       "    </tr>\n",
       "  </tbody>\n",
       "</table>\n",
       "</div>"
      ],
      "text/plain": [
       "   User  Movie  Rating  User_Mean  Movie_Mean  Global_Mean  Global_Median  \\\n",
       "0    44      1       4   3.893701    3.379412     3.857281            4.0   \n",
       "1    61      1       3   4.233696    3.379412     3.857281            4.0   \n",
       "2    67      1       4   3.580645    3.379412     3.857281            4.0   \n",
       "3    72      1       3   3.861423    3.379412     3.857281            4.0   \n",
       "4    86      1       5   4.103321    3.379412     3.857281            4.0   \n",
       "\n",
       "   User_Median  Movie_Median  Movie_RegLin  \n",
       "0          4.0           3.0      3.328395  \n",
       "1          4.5           3.0      3.328395  \n",
       "2          4.0           3.0      3.328395  \n",
       "3          4.0           3.0      3.328395  \n",
       "4          4.0           3.0      3.328395  "
      ]
     },
     "execution_count": 20,
     "metadata": {},
     "output_type": "execute_result"
    }
   ],
   "source": [
    "train.head()"
   ]
  },
  {
   "cell_type": "markdown",
   "metadata": {},
   "source": [
    "### Correction for users ratings :"
   ]
  },
  {
   "cell_type": "code",
   "execution_count": 21,
   "metadata": {
    "collapsed": false
   },
   "outputs": [
    {
     "data": {
      "text/html": [
       "<div>\n",
       "<table border=\"1\" class=\"dataframe\">\n",
       "  <thead>\n",
       "    <tr style=\"text-align: right;\">\n",
       "      <th></th>\n",
       "      <th>User</th>\n",
       "      <th>Mean</th>\n",
       "      <th>Median</th>\n",
       "      <th>Difference_To_Mean</th>\n",
       "    </tr>\n",
       "  </thead>\n",
       "  <tbody>\n",
       "    <tr>\n",
       "      <th>0</th>\n",
       "      <td>1</td>\n",
       "      <td>4.04348</td>\n",
       "      <td>4.0</td>\n",
       "      <td>-0.211353</td>\n",
       "    </tr>\n",
       "    <tr>\n",
       "      <th>1</th>\n",
       "      <td>2</td>\n",
       "      <td>3.77181</td>\n",
       "      <td>4.0</td>\n",
       "      <td>0.0603135</td>\n",
       "    </tr>\n",
       "    <tr>\n",
       "      <th>2</th>\n",
       "      <td>3</td>\n",
       "      <td>3.52326</td>\n",
       "      <td>3.5</td>\n",
       "      <td>0.30887</td>\n",
       "    </tr>\n",
       "    <tr>\n",
       "      <th>3</th>\n",
       "      <td>4</td>\n",
       "      <td>3.8</td>\n",
       "      <td>4.0</td>\n",
       "      <td>0.0321256</td>\n",
       "    </tr>\n",
       "    <tr>\n",
       "      <th>4</th>\n",
       "      <td>5</td>\n",
       "      <td>3.98507</td>\n",
       "      <td>4.0</td>\n",
       "      <td>-0.152949</td>\n",
       "    </tr>\n",
       "  </tbody>\n",
       "</table>\n",
       "</div>"
      ],
      "text/plain": [
       "  User     Mean  Median Difference_To_Mean\n",
       "0    1  4.04348     4.0          -0.211353\n",
       "1    2  3.77181     4.0          0.0603135\n",
       "2    3  3.52326     3.5            0.30887\n",
       "3    4      3.8     4.0          0.0321256\n",
       "4    5  3.98507     4.0          -0.152949"
      ]
     },
     "execution_count": 21,
     "metadata": {},
     "output_type": "execute_result"
    }
   ],
   "source": [
    "users['Difference_To_Mean'] = users['Mean'].mean() - users['Mean']\n",
    "users.head()"
   ]
  },
  {
   "cell_type": "markdown",
   "metadata": {},
   "source": [
    "** / ! \\ Next window takes time to execute **"
   ]
  },
  {
   "cell_type": "code",
   "execution_count": 22,
   "metadata": {
    "collapsed": true
   },
   "outputs": [],
   "source": [
    "for index, row in train.iterrows():\n",
    "    train.set_value(index, 'Movie_Mean_Corrected', users.iloc[int(train.iloc[index]['Movie'])-1]['Mean'] + users.iloc[int(train.iloc[index]['User'])-1]['Difference_To_Mean'])\n",
    "    train.set_value(index, 'Movie_Median_Corrected', users.iloc[int(train.iloc[index]['Movie'])-1]['Median'] + users.iloc[int(train.iloc[index]['User'])-1]['Difference_To_Mean'])"
   ]
  },
  {
   "cell_type": "code",
   "execution_count": 23,
   "metadata": {
    "collapsed": false
   },
   "outputs": [],
   "source": [
    "rmse_movie_mean_c = math.sqrt(mean_squared_error(train['Movie_Mean_Corrected'], train['Rating']))\n",
    "rmse_movie_median_c = math.sqrt(mean_squared_error(train['Movie_Median_Corrected'], train['Rating']))"
   ]
  },
  {
   "cell_type": "markdown",
   "metadata": {},
   "source": [
    "# Keeping track of baselines found :"
   ]
  },
  {
   "cell_type": "code",
   "execution_count": 24,
   "metadata": {
    "collapsed": false,
    "scrolled": true
   },
   "outputs": [
    {
     "name": "stdout",
     "output_type": "stream",
     "text": [
      "RMSE for Global Mean is : 1.1190567337624968\n",
      "RMSE for User Mean is : 1.0850291595233115\n",
      "RMSE for Movie Mean is : 1.029420674583946\n",
      "RMSE for Movie Mean Corrected is : 1.2401999682815303\n",
      "RMSE for Global Median is : 1.1281209282810263\n",
      "RMSE for User Median is : 1.13975762984132\n",
      "RMSE for Movie Median is : 1.0978514017684773\n",
      "RMSE for Movie Median Corrected is : 1.2868866674862935\n",
      "RMSE for Movie RegLin is : 1.0678666500565257\n"
     ]
    }
   ],
   "source": [
    "Baselines = ['Global Mean', 'User Mean', 'Movie Mean', 'Movie Mean Corrected', \n",
    "             'Global Median', 'User Median', 'Movie Median', 'Movie Median Corrected', 'Movie RegLin']\n",
    "\n",
    "RMSE = [rmse_global_mean, rmse_user_mean, rmse_movie_mean, rmse_movie_mean_c,\n",
    "        rmse_global_median, rmse_user_median, rmse_movie_median, rmse_movie_median_c, rmse_movie_reg_lin]\n",
    "\n",
    "for i in range(len(Baselines)):\n",
    "    print('RMSE for {} is : {}'.format(Baselines[i], RMSE[i]))"
   ]
  },
  {
   "cell_type": "markdown",
   "metadata": {},
   "source": [
    "Final dataframe states :"
   ]
  },
  {
   "cell_type": "code",
   "execution_count": 25,
   "metadata": {
    "collapsed": false
   },
   "outputs": [
    {
     "data": {
      "text/html": [
       "<div>\n",
       "<table border=\"1\" class=\"dataframe\">\n",
       "  <thead>\n",
       "    <tr style=\"text-align: right;\">\n",
       "      <th></th>\n",
       "      <th>User</th>\n",
       "      <th>Movie</th>\n",
       "      <th>Rating</th>\n",
       "      <th>User_Mean</th>\n",
       "      <th>Movie_Mean</th>\n",
       "      <th>Global_Mean</th>\n",
       "      <th>Global_Median</th>\n",
       "      <th>User_Median</th>\n",
       "      <th>Movie_Median</th>\n",
       "      <th>Movie_RegLin</th>\n",
       "      <th>Movie_Mean_Corrected</th>\n",
       "      <th>Movie_Median_Corrected</th>\n",
       "    </tr>\n",
       "  </thead>\n",
       "  <tbody>\n",
       "    <tr>\n",
       "      <th>0</th>\n",
       "      <td>44</td>\n",
       "      <td>1</td>\n",
       "      <td>4</td>\n",
       "      <td>3.893701</td>\n",
       "      <td>3.379412</td>\n",
       "      <td>3.857281</td>\n",
       "      <td>4.0</td>\n",
       "      <td>4.0</td>\n",
       "      <td>3.0</td>\n",
       "      <td>3.328395</td>\n",
       "      <td>3.981903</td>\n",
       "      <td>3.938425</td>\n",
       "    </tr>\n",
       "    <tr>\n",
       "      <th>1</th>\n",
       "      <td>61</td>\n",
       "      <td>1</td>\n",
       "      <td>3</td>\n",
       "      <td>4.233696</td>\n",
       "      <td>3.379412</td>\n",
       "      <td>3.857281</td>\n",
       "      <td>4.0</td>\n",
       "      <td>4.5</td>\n",
       "      <td>3.0</td>\n",
       "      <td>3.328395</td>\n",
       "      <td>3.641908</td>\n",
       "      <td>3.598430</td>\n",
       "    </tr>\n",
       "    <tr>\n",
       "      <th>2</th>\n",
       "      <td>67</td>\n",
       "      <td>1</td>\n",
       "      <td>4</td>\n",
       "      <td>3.580645</td>\n",
       "      <td>3.379412</td>\n",
       "      <td>3.857281</td>\n",
       "      <td>4.0</td>\n",
       "      <td>4.0</td>\n",
       "      <td>3.0</td>\n",
       "      <td>3.328395</td>\n",
       "      <td>4.294959</td>\n",
       "      <td>4.251480</td>\n",
       "    </tr>\n",
       "    <tr>\n",
       "      <th>3</th>\n",
       "      <td>72</td>\n",
       "      <td>1</td>\n",
       "      <td>3</td>\n",
       "      <td>3.861423</td>\n",
       "      <td>3.379412</td>\n",
       "      <td>3.857281</td>\n",
       "      <td>4.0</td>\n",
       "      <td>4.0</td>\n",
       "      <td>3.0</td>\n",
       "      <td>3.328395</td>\n",
       "      <td>4.014181</td>\n",
       "      <td>3.970702</td>\n",
       "    </tr>\n",
       "    <tr>\n",
       "      <th>4</th>\n",
       "      <td>86</td>\n",
       "      <td>1</td>\n",
       "      <td>5</td>\n",
       "      <td>4.103321</td>\n",
       "      <td>3.379412</td>\n",
       "      <td>3.857281</td>\n",
       "      <td>4.0</td>\n",
       "      <td>4.0</td>\n",
       "      <td>3.0</td>\n",
       "      <td>3.328395</td>\n",
       "      <td>3.772283</td>\n",
       "      <td>3.728805</td>\n",
       "    </tr>\n",
       "  </tbody>\n",
       "</table>\n",
       "</div>"
      ],
      "text/plain": [
       "   User  Movie  Rating  User_Mean  Movie_Mean  Global_Mean  Global_Median  \\\n",
       "0    44      1       4   3.893701    3.379412     3.857281            4.0   \n",
       "1    61      1       3   4.233696    3.379412     3.857281            4.0   \n",
       "2    67      1       4   3.580645    3.379412     3.857281            4.0   \n",
       "3    72      1       3   3.861423    3.379412     3.857281            4.0   \n",
       "4    86      1       5   4.103321    3.379412     3.857281            4.0   \n",
       "\n",
       "   User_Median  Movie_Median  Movie_RegLin  Movie_Mean_Corrected  \\\n",
       "0          4.0           3.0      3.328395              3.981903   \n",
       "1          4.5           3.0      3.328395              3.641908   \n",
       "2          4.0           3.0      3.328395              4.294959   \n",
       "3          4.0           3.0      3.328395              4.014181   \n",
       "4          4.0           3.0      3.328395              3.772283   \n",
       "\n",
       "   Movie_Median_Corrected  \n",
       "0                3.938425  \n",
       "1                3.598430  \n",
       "2                4.251480  \n",
       "3                3.970702  \n",
       "4                3.728805  "
      ]
     },
     "execution_count": 25,
     "metadata": {},
     "output_type": "execute_result"
    }
   ],
   "source": [
    "train.to_pickle('./train_baseline.p')\n",
    "train.head()\n",
    "\n",
    "# Can be reopened with train = pd.read_pickle(train_baseline.p)"
   ]
  },
  {
   "cell_type": "code",
   "execution_count": 28,
   "metadata": {
    "collapsed": false
   },
   "outputs": [
    {
     "data": {
      "text/html": [
       "<div>\n",
       "<table border=\"1\" class=\"dataframe\">\n",
       "  <thead>\n",
       "    <tr style=\"text-align: right;\">\n",
       "      <th></th>\n",
       "      <th>Movie</th>\n",
       "      <th>Mean</th>\n",
       "      <th>Median</th>\n",
       "      <th>Nb Ratings</th>\n",
       "      <th>Reg Lin Value</th>\n",
       "    </tr>\n",
       "  </thead>\n",
       "  <tbody>\n",
       "    <tr>\n",
       "      <th>0</th>\n",
       "      <td>1</td>\n",
       "      <td>3.37941</td>\n",
       "      <td>3.0</td>\n",
       "      <td>340.0</td>\n",
       "      <td>3.328395</td>\n",
       "    </tr>\n",
       "    <tr>\n",
       "      <th>1</th>\n",
       "      <td>2</td>\n",
       "      <td>3.50094</td>\n",
       "      <td>4.0</td>\n",
       "      <td>531.0</td>\n",
       "      <td>3.391218</td>\n",
       "    </tr>\n",
       "    <tr>\n",
       "      <th>2</th>\n",
       "      <td>3</td>\n",
       "      <td>3.48359</td>\n",
       "      <td>3.0</td>\n",
       "      <td>792.0</td>\n",
       "      <td>3.477066</td>\n",
       "    </tr>\n",
       "    <tr>\n",
       "      <th>3</th>\n",
       "      <td>4</td>\n",
       "      <td>3.93647</td>\n",
       "      <td>4.0</td>\n",
       "      <td>3164.0</td>\n",
       "      <td>4.257262</td>\n",
       "    </tr>\n",
       "    <tr>\n",
       "      <th>4</th>\n",
       "      <td>5</td>\n",
       "      <td>3.55913</td>\n",
       "      <td>4.0</td>\n",
       "      <td>1243.0</td>\n",
       "      <td>3.625409</td>\n",
       "    </tr>\n",
       "  </tbody>\n",
       "</table>\n",
       "</div>"
      ],
      "text/plain": [
       "  Movie     Mean  Median  Nb Ratings  Reg Lin Value\n",
       "0     1  3.37941     3.0       340.0       3.328395\n",
       "1     2  3.50094     4.0       531.0       3.391218\n",
       "2     3  3.48359     3.0       792.0       3.477066\n",
       "3     4  3.93647     4.0      3164.0       4.257262\n",
       "4     5  3.55913     4.0      1243.0       3.625409"
      ]
     },
     "execution_count": 28,
     "metadata": {},
     "output_type": "execute_result"
    }
   ],
   "source": [
    "movies.to_pickle('./movies_baseline.p')\n",
    "movies.head()"
   ]
  },
  {
   "cell_type": "code",
   "execution_count": 29,
   "metadata": {
    "collapsed": false
   },
   "outputs": [
    {
     "data": {
      "text/html": [
       "<div>\n",
       "<table border=\"1\" class=\"dataframe\">\n",
       "  <thead>\n",
       "    <tr style=\"text-align: right;\">\n",
       "      <th></th>\n",
       "      <th>User</th>\n",
       "      <th>Mean</th>\n",
       "      <th>Median</th>\n",
       "      <th>Difference_To_Mean</th>\n",
       "    </tr>\n",
       "  </thead>\n",
       "  <tbody>\n",
       "    <tr>\n",
       "      <th>0</th>\n",
       "      <td>1</td>\n",
       "      <td>4.04348</td>\n",
       "      <td>4.0</td>\n",
       "      <td>-0.211353</td>\n",
       "    </tr>\n",
       "    <tr>\n",
       "      <th>1</th>\n",
       "      <td>2</td>\n",
       "      <td>3.77181</td>\n",
       "      <td>4.0</td>\n",
       "      <td>0.0603135</td>\n",
       "    </tr>\n",
       "    <tr>\n",
       "      <th>2</th>\n",
       "      <td>3</td>\n",
       "      <td>3.52326</td>\n",
       "      <td>3.5</td>\n",
       "      <td>0.30887</td>\n",
       "    </tr>\n",
       "    <tr>\n",
       "      <th>3</th>\n",
       "      <td>4</td>\n",
       "      <td>3.8</td>\n",
       "      <td>4.0</td>\n",
       "      <td>0.0321256</td>\n",
       "    </tr>\n",
       "    <tr>\n",
       "      <th>4</th>\n",
       "      <td>5</td>\n",
       "      <td>3.98507</td>\n",
       "      <td>4.0</td>\n",
       "      <td>-0.152949</td>\n",
       "    </tr>\n",
       "  </tbody>\n",
       "</table>\n",
       "</div>"
      ],
      "text/plain": [
       "  User     Mean  Median Difference_To_Mean\n",
       "0    1  4.04348     4.0          -0.211353\n",
       "1    2  3.77181     4.0          0.0603135\n",
       "2    3  3.52326     3.5            0.30887\n",
       "3    4      3.8     4.0          0.0321256\n",
       "4    5  3.98507     4.0          -0.152949"
      ]
     },
     "execution_count": 29,
     "metadata": {},
     "output_type": "execute_result"
    }
   ],
   "source": [
    "movies.to_pickle('./users_baseline.p')\n",
    "users.head()"
   ]
  },
  {
   "cell_type": "code",
   "execution_count": null,
   "metadata": {
    "collapsed": true
   },
   "outputs": [],
   "source": []
  }
 ],
 "metadata": {
  "anaconda-cloud": {},
  "kernelspec": {
   "display_name": "Python [default]",
   "language": "python",
   "name": "python3"
  },
  "language_info": {
   "codemirror_mode": {
    "name": "ipython",
    "version": 3
   },
   "file_extension": ".py",
   "mimetype": "text/x-python",
   "name": "python",
   "nbconvert_exporter": "python",
   "pygments_lexer": "ipython3",
   "version": "3.5.2"
  }
 },
 "nbformat": 4,
 "nbformat_minor": 1
}
