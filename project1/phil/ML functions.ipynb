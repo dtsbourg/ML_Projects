{
 "cells": [
  {
   "cell_type": "code",
   "execution_count": 30,
   "metadata": {
    "collapsed": true
   },
   "outputs": [],
   "source": [
    "from proj1_helpers import *\n",
    "from implementations import *\n",
    "from auxiliary import *\n",
    "import pickle\n",
    "import matplotlib.pyplot as plt\n",
    "import datetime\n",
    "import random\n",
    "\n",
    "%matplotlib inline\n",
    "%reload_ext autoreload\n",
    "%autoreload 2"
   ]
  },
  {
   "cell_type": "markdown",
   "metadata": {},
   "source": [
    "## Data loading\n"
   ]
  },
  {
   "cell_type": "markdown",
   "metadata": {},
   "source": [
    "### Training sets"
   ]
  },
  {
   "cell_type": "code",
   "execution_count": 2,
   "metadata": {
    "collapsed": true
   },
   "outputs": [],
   "source": [
    "easy_data_set = False # changer pour sélectionner un set de dim (1000,2) ou le vrai set\n",
    "\n",
    "if easy_data_set:\n",
    "    ids, y, X = load_easy_data(sub_sample=False)\n",
    "else:\n",
    "    ids, y, X = load_csv_data('../data/train.csv')\n",
    "    # Only 100% clean data\n",
    "    ranges = [(1,4), (7,12), (13,23), (29,30)]\n",
    "    keep_idx = build_idx(ranges)\n",
    "    X = X[:,keep_idx]\n",
    "\n",
    "x, mean_x, std_x = standardize(X)\n",
    "tx = np.c_[np.ones((y.shape[0], 1)), x]\n",
    "tx = build_poly(x, 1)\n",
    "\n",
    "N = x.shape[0]\n",
    "D = x.shape[1]\n"
   ]
  },
  {
   "cell_type": "code",
   "execution_count": 3,
   "metadata": {},
   "outputs": [
    {
     "data": {
      "text/plain": [
       "100.0"
      ]
     },
     "execution_count": 3,
     "metadata": {},
     "output_type": "execute_result"
    }
   ],
   "source": [
    "# to check that we eliminated all unecessary features\n",
    "clean_data = [x for x in X if not -999. in x]\n",
    "len(clean_data)/len(X)*100 # percent"
   ]
  },
  {
   "cell_type": "markdown",
   "metadata": {
    "collapsed": true
   },
   "source": [
    "### Testing sets"
   ]
  },
  {
   "cell_type": "code",
   "execution_count": 4,
   "metadata": {
    "collapsed": true
   },
   "outputs": [],
   "source": [
    "# takes time, run only when needed\n",
    "ids_ukn, y_ukn, X_ukn = load_csv_data('../data/test.csv')\n",
    "\n",
    "ranges = [(1,4), (7,12), (13,23), (29,30)]\n",
    "keep_idx = build_idx(ranges)\n",
    "X_ukn = X_ukn[:,keep_idx]\n",
    "\n",
    "x_ukn, mean_x_ukn, std_x_ukn = standardize(X_ukn)\n",
    "tx_ukn = build_poly(x_ukn, 1)"
   ]
  },
  {
   "cell_type": "code",
   "execution_count": 6,
   "metadata": {},
   "outputs": [
    {
     "data": {
      "text/plain": [
       "100.0"
      ]
     },
     "execution_count": 6,
     "metadata": {},
     "output_type": "execute_result"
    }
   ],
   "source": [
    "clean_data = [x for x in X_ukn if not -999. in x]\n",
    "len(clean_data)/len(X_ukn)*100 # percent"
   ]
  },
  {
   "cell_type": "markdown",
   "metadata": {
    "collapsed": true
   },
   "source": [
    "# Training\n",
    "Différents types de training possibles. Normalement, seul le logistic regression a du sens. Les autres sont là pour pouvoir tester les diverses fonctions à fournir dans `implementation.py`."
   ]
  },
  {
   "cell_type": "markdown",
   "metadata": {
    "collapsed": true
   },
   "source": [
    "## Least squares"
   ]
  },
  {
   "cell_type": "code",
   "execution_count": 4,
   "metadata": {},
   "outputs": [
    {
     "name": "stdout",
     "output_type": "stream",
     "text": [
      "0.0881281775747\n"
     ]
    }
   ],
   "source": [
    "tx = build_poly(x, 1)\n",
    "w_LS, loss = least_squares(y,tx)\n",
    "print(loss)"
   ]
  },
  {
   "cell_type": "markdown",
   "metadata": {},
   "source": [
    "## Least squares (GD)"
   ]
  },
  {
   "cell_type": "code",
   "execution_count": 5,
   "metadata": {
    "collapsed": true
   },
   "outputs": [],
   "source": [
    "# w_initial = w_LS\n",
    "w_initial = np.array([0]*(D+1))\n",
    "max_iters = 100\n",
    "gammas = [1e-9, 1e-8, 1e-7, 1e-6, 1e-5, 1e-4, 1e-3, 1e-2, 1e-1, 0.2, 0.5]\n",
    "losses = []\n",
    "ws = [] \n",
    "\n",
    "for gamma in gammas:\n",
    "    w, loss = least_squares_GD(y, tx, w_initial, max_iters, gamma)\n",
    "    losses.append(loss)\n",
    "    ws.append(w)"
   ]
  },
  {
   "cell_type": "code",
   "execution_count": 6,
   "metadata": {},
   "outputs": [
    {
     "name": "stdout",
     "output_type": "stream",
     "text": [
      "[0.17133397928038172, 0.17133379280419442, 0.17133192807966208, 0.17131328456755254, 0.17112722189890217, 0.16930299178040373, 0.15401832397907719, 0.10122555155082739, 0.088572046158184939, 0.088179982225158049, 2.1602525808630443e+50]\n"
     ]
    }
   ],
   "source": [
    "print(losses)\n",
    "w_LS_GD = ws[8]"
   ]
  },
  {
   "cell_type": "markdown",
   "metadata": {},
   "source": [
    "## Least squares (SGD)"
   ]
  },
  {
   "cell_type": "code",
   "execution_count": null,
   "metadata": {
    "collapsed": true
   },
   "outputs": [],
   "source": [
    "w_initial = np.array([0]*(D+1))\n",
    "max_iters = 1000\n",
    "gammas = [1e-5, 1e-4, 1e-3, 1e-2, 1e-1, 0.2, 0.4, 0.5]\n",
    "batch_size = 10\n",
    "losses = []\n",
    "ws = []\n",
    "\n",
    "for gamma in gammas:\n",
    "    sgd_ws, sgd_losses = least_squares_SGD(y, tx, w_initial, batch_size, max_iters, gamma)\n",
    "    losses.append(sgd_losses)\n",
    "    ws.append(sgd_ws)"
   ]
  },
  {
   "cell_type": "code",
   "execution_count": null,
   "metadata": {
    "collapsed": true
   },
   "outputs": [],
   "source": [
    "print(losses)\n",
    "print(len(ws))\n",
    "w_LS_SGD = ws[7]"
   ]
  },
  {
   "cell_type": "markdown",
   "metadata": {},
   "source": [
    "## Polynomial regression"
   ]
  },
  {
   "cell_type": "code",
   "execution_count": 50,
   "metadata": {},
   "outputs": [
    {
     "name": "stdout",
     "output_type": "stream",
     "text": [
      "Processing 0th experiment, degree=1, loss=0.088, err_ratio=0.266\n",
      "Processing 1th experiment, degree=3, loss=0.082, err_ratio=0.240\n",
      "Processing 2th experiment, degree=7, loss=0.079, err_ratio=0.225\n",
      "Processing 3th experiment, degree=10, loss=0.076, err_ratio=0.210\n",
      "Processing 4th experiment, degree=11, loss=0.075, err_ratio=0.206\n",
      "Processing 5th experiment, degree=12, loss=0.075, err_ratio=0.205\n",
      "Processing 6th experiment, degree=13, loss=0.075, err_ratio=0.205\n",
      "Processing 7th experiment, degree=14, loss=0.136, err_ratio=0.293\n",
      "Processing 8th experiment, degree=15, loss=0.080, err_ratio=0.219\n"
     ]
    }
   ],
   "source": [
    "\"\"\"Constructing the polynomial basis function expansion of the data,\n",
    "   and then running least squares regression.\"\"\"\n",
    "# define parameters\n",
    "degrees = [1, 3, 7, 10, 11, 12, 13, 14, 15]\n",
    "losses = []\n",
    "ws = []\n",
    "ratio_errs = []\n",
    "deg = []\n",
    "    \n",
    "phi = build_poly(x, 2)  # form the data to do polynomial regression.\n",
    "    \n",
    "for ind, degree in enumerate(degrees):\n",
    "    phi = build_poly(x, degree)  # form the data to do polynomial regression.\n",
    "    # least square and calculate RMSE\n",
    "        \n",
    "    w, loss_degree_LS = least_squares(y, phi)\n",
    "    error, ratio_error = compute_classification_error(y, phi, w, logistic_reg=False)\n",
    "    \n",
    "    ratio_errs.append(ratio_error)\n",
    "    \n",
    "    losses.append(loss_degree_LS)\n",
    "    ws.append(w)\n",
    "    deg.append(degree)\n",
    "    print(\"Processing {i}th experiment, degree={d}, loss={loss:.3f}, err_ratio={err:.3f}\".format(\n",
    "           i=ind, d=degree, loss=loss_degree_LS, err=ratio_error))\n"
   ]
  },
  {
   "cell_type": "code",
   "execution_count": 9,
   "metadata": {},
   "outputs": [
    {
     "name": "stdout",
     "output_type": "stream",
     "text": [
      "Take experiment 6 out of 9 experiments, degree=13, err_ratio=0.204712\n"
     ]
    }
   ],
   "source": [
    "idx = np.argmin(ratio_errs) # get best experiment\n",
    "w_degree_LS = ws[idx]\n",
    "\n",
    "\n",
    "print(\"Take experiment {i} out of {tot} experiments, degree={d}, err_ratio={err}\".format(\n",
    "           i=idx, tot=len(ws), d=deg[idx], err=ratio_errs[idx]))\n"
   ]
  },
  {
   "cell_type": "markdown",
   "metadata": {},
   "source": [
    "## Ridge Regression\n",
    "A tester!"
   ]
  },
  {
   "cell_type": "code",
   "execution_count": 4,
   "metadata": {},
   "outputs": [
    {
     "name": "stdout",
     "output_type": "stream",
     "text": [
      "proportion=0.9, degree=1, lambda=0.000, Train loss,err_ratio=(0.088,0.266), Test loss,err_ratio=(0.089,0.274)\n",
      "proportion=0.9, degree=1, lambda=0.000, Train loss,err_ratio=(0.088,0.266), Test loss,err_ratio=(0.089,0.274)\n",
      "proportion=0.9, degree=1, lambda=0.000, Train loss,err_ratio=(0.088,0.266), Test loss,err_ratio=(0.089,0.274)\n",
      "proportion=0.9, degree=1, lambda=0.000, Train loss,err_ratio=(0.088,0.266), Test loss,err_ratio=(0.089,0.274)\n",
      "proportion=0.9, degree=1, lambda=0.001, Train loss,err_ratio=(0.088,0.266), Test loss,err_ratio=(0.089,0.274)\n",
      "proportion=0.9, degree=1, lambda=0.003, Train loss,err_ratio=(0.088,0.266), Test loss,err_ratio=(0.089,0.273)\n",
      "proportion=0.9, degree=1, lambda=0.010, Train loss,err_ratio=(0.088,0.268), Test loss,err_ratio=(0.089,0.275)\n",
      "proportion=0.9, degree=1, lambda=0.032, Train loss,err_ratio=(0.089,0.275), Test loss,err_ratio=(0.090,0.281)\n",
      "proportion=0.9, degree=1, lambda=0.100, Train loss,err_ratio=(0.092,0.299), Test loss,err_ratio=(0.093,0.300)\n",
      "proportion=0.9, degree=1, lambda=0.316, Train loss,err_ratio=(0.102,0.337), Test loss,err_ratio=(0.102,0.335)\n",
      "proportion=0.9, degree=1, lambda=1.000, Train loss,err_ratio=(0.124,0.342), Test loss,err_ratio=(0.124,0.341)\n",
      "proportion=0.9, degree=1, lambda=3.162, Train loss,err_ratio=(0.148,0.343), Test loss,err_ratio=(0.148,0.342)\n",
      "proportion=0.9, degree=1, lambda=10.000, Train loss,err_ratio=(0.162,0.343), Test loss,err_ratio=(0.162,0.342)\n",
      "proportion=0.9, degree=1, lambda=31.623, Train loss,err_ratio=(0.168,0.343), Test loss,err_ratio=(0.168,0.342)\n",
      "proportion=0.9, degree=1, lambda=100.000, Train loss,err_ratio=(0.170,0.343), Test loss,err_ratio=(0.170,0.342)\n",
      "proportion=0.9, degree=3, lambda=0.000, Train loss,err_ratio=(0.088,0.239), Test loss,err_ratio=(0.089,0.246)\n",
      "proportion=0.9, degree=3, lambda=0.000, Train loss,err_ratio=(0.088,0.239), Test loss,err_ratio=(0.089,0.246)\n",
      "proportion=0.9, degree=3, lambda=0.000, Train loss,err_ratio=(0.088,0.239), Test loss,err_ratio=(0.089,0.246)\n",
      "proportion=0.9, degree=3, lambda=0.000, Train loss,err_ratio=(0.088,0.239), Test loss,err_ratio=(0.089,0.246)\n",
      "proportion=0.9, degree=3, lambda=0.001, Train loss,err_ratio=(0.088,0.240), Test loss,err_ratio=(0.089,0.247)\n",
      "proportion=0.9, degree=3, lambda=0.003, Train loss,err_ratio=(0.088,0.240), Test loss,err_ratio=(0.089,0.248)\n",
      "proportion=0.9, degree=3, lambda=0.010, Train loss,err_ratio=(0.088,0.243), Test loss,err_ratio=(0.089,0.250)\n",
      "proportion=0.9, degree=3, lambda=0.032, Train loss,err_ratio=(0.089,0.249), Test loss,err_ratio=(0.090,0.254)\n",
      "proportion=0.9, degree=3, lambda=0.100, Train loss,err_ratio=(0.092,0.262), Test loss,err_ratio=(0.093,0.265)\n",
      "proportion=0.9, degree=3, lambda=0.316, Train loss,err_ratio=(0.102,0.292), Test loss,err_ratio=(0.102,0.295)\n",
      "proportion=0.9, degree=3, lambda=1.000, Train loss,err_ratio=(0.124,0.328), Test loss,err_ratio=(0.124,0.329)\n",
      "proportion=0.9, degree=3, lambda=3.162, Train loss,err_ratio=(0.148,0.340), Test loss,err_ratio=(0.148,0.340)\n",
      "proportion=0.9, degree=3, lambda=10.000, Train loss,err_ratio=(0.162,0.342), Test loss,err_ratio=(0.162,0.340)\n",
      "proportion=0.9, degree=3, lambda=31.623, Train loss,err_ratio=(0.168,0.342), Test loss,err_ratio=(0.168,0.341)\n",
      "proportion=0.9, degree=3, lambda=100.000, Train loss,err_ratio=(0.170,0.342), Test loss,err_ratio=(0.170,0.341)\n",
      "proportion=0.9, degree=7, lambda=0.000, Train loss,err_ratio=(0.088,0.225), Test loss,err_ratio=(0.089,0.230)\n",
      "proportion=0.9, degree=7, lambda=0.000, Train loss,err_ratio=(0.088,0.225), Test loss,err_ratio=(0.089,0.230)\n",
      "proportion=0.9, degree=7, lambda=0.000, Train loss,err_ratio=(0.088,0.225), Test loss,err_ratio=(0.089,0.230)\n",
      "proportion=0.9, degree=7, lambda=0.000, Train loss,err_ratio=(0.088,0.225), Test loss,err_ratio=(0.089,0.230)\n",
      "proportion=0.9, degree=7, lambda=0.001, Train loss,err_ratio=(0.088,0.225), Test loss,err_ratio=(0.089,0.231)\n",
      "proportion=0.9, degree=7, lambda=0.003, Train loss,err_ratio=(0.088,0.226), Test loss,err_ratio=(0.089,0.231)\n",
      "proportion=0.9, degree=7, lambda=0.010, Train loss,err_ratio=(0.088,0.229), Test loss,err_ratio=(0.089,0.234)\n",
      "proportion=0.9, degree=7, lambda=0.032, Train loss,err_ratio=(0.089,0.237), Test loss,err_ratio=(0.090,0.240)\n",
      "proportion=0.9, degree=7, lambda=0.100, Train loss,err_ratio=(0.092,0.249), Test loss,err_ratio=(0.093,0.254)\n",
      "proportion=0.9, degree=7, lambda=0.316, Train loss,err_ratio=(0.102,0.268), Test loss,err_ratio=(0.102,0.273)\n",
      "proportion=0.9, degree=7, lambda=1.000, Train loss,err_ratio=(0.124,0.298), Test loss,err_ratio=(0.124,0.299)\n",
      "proportion=0.9, degree=7, lambda=3.162, Train loss,err_ratio=(0.148,0.322), Test loss,err_ratio=(0.148,0.321)\n",
      "proportion=0.9, degree=7, lambda=10.000, Train loss,err_ratio=(0.162,0.336), Test loss,err_ratio=(0.162,0.333)\n",
      "proportion=0.9, degree=7, lambda=31.623, Train loss,err_ratio=(0.168,0.341), Test loss,err_ratio=(0.168,0.338)\n",
      "proportion=0.9, degree=7, lambda=100.000, Train loss,err_ratio=(0.170,0.341), Test loss,err_ratio=(0.170,0.340)\n",
      "proportion=0.9, degree=12, lambda=0.000, Train loss,err_ratio=(0.088,0.205), Test loss,err_ratio=(0.089,0.208)\n",
      "proportion=0.9, degree=12, lambda=0.000, Train loss,err_ratio=(0.088,0.205), Test loss,err_ratio=(0.089,0.208)\n",
      "proportion=0.9, degree=12, lambda=0.000, Train loss,err_ratio=(0.088,0.205), Test loss,err_ratio=(0.089,0.208)\n",
      "proportion=0.9, degree=12, lambda=0.000, Train loss,err_ratio=(0.088,0.205), Test loss,err_ratio=(0.089,0.208)\n",
      "proportion=0.9, degree=12, lambda=0.001, Train loss,err_ratio=(0.088,0.205), Test loss,err_ratio=(0.089,0.208)\n",
      "proportion=0.9, degree=12, lambda=0.003, Train loss,err_ratio=(0.088,0.206), Test loss,err_ratio=(0.089,0.211)\n",
      "proportion=0.9, degree=12, lambda=0.010, Train loss,err_ratio=(0.088,0.212), Test loss,err_ratio=(0.089,0.216)\n",
      "proportion=0.9, degree=12, lambda=0.032, Train loss,err_ratio=(0.089,0.223), Test loss,err_ratio=(0.090,0.227)\n",
      "proportion=0.9, degree=12, lambda=0.100, Train loss,err_ratio=(0.092,0.242), Test loss,err_ratio=(0.093,0.247)\n",
      "proportion=0.9, degree=12, lambda=0.316, Train loss,err_ratio=(0.102,0.264), Test loss,err_ratio=(0.102,0.268)\n",
      "proportion=0.9, degree=12, lambda=1.000, Train loss,err_ratio=(0.124,0.284), Test loss,err_ratio=(0.124,0.286)\n",
      "proportion=0.9, degree=12, lambda=3.162, Train loss,err_ratio=(0.148,0.311), Test loss,err_ratio=(0.148,0.312)\n",
      "proportion=0.9, degree=12, lambda=10.000, Train loss,err_ratio=(0.162,0.327), Test loss,err_ratio=(0.162,0.327)\n",
      "proportion=0.9, degree=12, lambda=31.623, Train loss,err_ratio=(0.168,0.335), Test loss,err_ratio=(0.168,0.334)\n",
      "proportion=0.9, degree=12, lambda=100.000, Train loss,err_ratio=(0.170,0.341), Test loss,err_ratio=(0.170,0.338)\n"
     ]
    }
   ],
   "source": [
    "lambdas = np.logspace(-5, 2, 15)\n",
    "\n",
    "ratio = 0.9\n",
    "degrees = [1, 3, 7, 12]\n",
    "\n",
    "# split the data, and return train and test data\n",
    "x_train, x_test, y_train, y_test = split_data(x, y, ratio)\n",
    "    \n",
    "    \n",
    "loss_tr = []\n",
    "loss_te = []\n",
    "ratio_err_trains = []\n",
    "ratio_err_tests = []\n",
    "ws = []\n",
    "deg=[]\n",
    "\n",
    "for degree in degrees:\n",
    "    # form train and test data with polynomial basis function\n",
    "    phi_train = build_poly(x_train, degree)\n",
    "    phi_test = build_poly(x_test, degree)\n",
    "    for ind, lambda_ in enumerate(lambdas):\n",
    "        # ridge regression with a given lambda\n",
    "        w, loss = ridge_regression(y_train, phi_train, lambda_)\n",
    "        ws.append(w)\n",
    "        loss_tr.append(compute_loss(y_train,phi_train,w))\n",
    "        loss_te.append(compute_loss(y_test,phi_test,w))\n",
    "    \n",
    "        error, ratio_error_train = compute_classification_error(y_train, phi_train, w, logistic_reg=False)\n",
    "        error, ratio_error_test = compute_classification_error(y_test, phi_test, w, logistic_reg=False)\n",
    "    \n",
    "        ratio_err_trains.append(ratio_error_train)\n",
    "        ratio_err_tests.append(ratio_error_test)\n",
    "        deg.append(degree)\n",
    "\n",
    "        print(\"proportion={p}, degree={d}, lambda={l:.3f}, Train loss,err_ratio=({tr:.3f},{err_ratio_tr:.3f}), Test loss,err_ratio=({te:.3f},{err_ratio_te:.3f})\".format(\n",
    "            p=ratio, d=degree, l=lambda_ ,tr=loss_tr[ind], te=loss_te[ind], err_ratio_tr=ratio_error_train, err_ratio_te=ratio_error_test))"
   ]
  },
  {
   "cell_type": "code",
   "execution_count": 7,
   "metadata": {},
   "outputs": [
    {
     "name": "stdout",
     "output_type": "stream",
     "text": [
      "Take experiment 49 out of 60 experiments, degree=12, err_ratio=0.20796\n"
     ]
    }
   ],
   "source": [
    "idx = np.argmin(ratio_err_tests) # get best experiment\n",
    "w_ridge_reg = ws[idx]\n",
    "\n",
    "\n",
    "print(\"Take experiment {i} out of {tot} experiments, degree={d}, err_ratio={err}\".format(\n",
    "           i=idx, tot=len(ws), d=deg[idx], err=ratio_err_tests[idx]))"
   ]
  },
  {
   "cell_type": "markdown",
   "metadata": {},
   "source": [
    "## Logistic regression"
   ]
  },
  {
   "cell_type": "code",
   "execution_count": null,
   "metadata": {
    "collapsed": true
   },
   "outputs": [],
   "source": [
    "w_initial = np.array([0]*(D+1))\n",
    "max_iters = 1000\n",
    "gammas = [1e-9, 1e-8, 1e-7, 1e-6, 1e-5, 1e-4, 1e-3, 1e-2, 1e-1, 0.2, 0.5]\n",
    "gammas = [0.01]\n",
    "losses = []\n",
    "ws = []\n",
    "\n",
    "for gamma in gammas:\n",
    "    w, loss = logistic_regression(y, tx, w_initial, max_iters, gamma)\n",
    "    losses.append(loss)\n",
    "    ws.append(w)\n"
   ]
  },
  {
   "cell_type": "code",
   "execution_count": null,
   "metadata": {
    "collapsed": true
   },
   "outputs": [],
   "source": [
    "print(losses)\n",
    "w_LR = ws[0]\n",
    "print(w_LR)"
   ]
  },
  {
   "cell_type": "markdown",
   "metadata": {},
   "source": [
    "# Evaluate for test set\n",
    "Sert à afficher le nombre d'erreurs"
   ]
  },
  {
   "cell_type": "code",
   "execution_count": 46,
   "metadata": {},
   "outputs": [
    {
     "name": "stdout",
     "output_type": "stream",
     "text": [
      "51166\n",
      "0.204664\n"
     ]
    }
   ],
   "source": [
    "tx = build_poly(x, 12)\n",
    "nb_errors, error_mean = compute_classification_error(y, tx, w_LS_degree_CV, logistic_reg=False)\n",
    "print(nb_errors)\n",
    "print(error_mean)"
   ]
  },
  {
   "cell_type": "code",
   "execution_count": 24,
   "metadata": {},
   "outputs": [
    {
     "ename": "NameError",
     "evalue": "name 'w_LS' is not defined",
     "output_type": "error",
     "traceback": [
      "\u001b[0;31m---------------------------------------------------------------------------\u001b[0m",
      "\u001b[0;31mNameError\u001b[0m                                 Traceback (most recent call last)",
      "\u001b[0;32m<ipython-input-24-d7da671b7e74>\u001b[0m in \u001b[0;36m<module>\u001b[0;34m()\u001b[0m\n\u001b[0;32m----> 1\u001b[0;31m \u001b[0mprint\u001b[0m\u001b[0;34m(\u001b[0m\u001b[0mw_LS\u001b[0m\u001b[0;34m)\u001b[0m\u001b[0;34m\u001b[0m\u001b[0m\n\u001b[0m\u001b[1;32m      2\u001b[0m \u001b[0mprint\u001b[0m\u001b[0;34m(\u001b[0m\u001b[0mw_LS_GD\u001b[0m\u001b[0;34m)\u001b[0m\u001b[0;34m\u001b[0m\u001b[0m\n\u001b[1;32m      3\u001b[0m \u001b[0mprint\u001b[0m\u001b[0;34m(\u001b[0m\u001b[0mw_LS_SGD\u001b[0m\u001b[0;34m)\u001b[0m\u001b[0;34m\u001b[0m\u001b[0m\n\u001b[1;32m      4\u001b[0m \u001b[0mprint\u001b[0m\u001b[0;34m(\u001b[0m\u001b[0mw_degree_LS\u001b[0m\u001b[0;34m)\u001b[0m\u001b[0;34m\u001b[0m\u001b[0m\n\u001b[1;32m      5\u001b[0m \u001b[0mprint\u001b[0m\u001b[0;34m(\u001b[0m\u001b[0mw_ridge_reg\u001b[0m\u001b[0;34m)\u001b[0m\u001b[0;34m\u001b[0m\u001b[0m\n",
      "\u001b[0;31mNameError\u001b[0m: name 'w_LS' is not defined"
     ]
    }
   ],
   "source": [
    "print(w_LS)\n",
    "print(w_LS_GD)\n",
    "print(w_LS_SGD)\n",
    "print(w_degree_LS)\n",
    "print(w_ridge_reg)"
   ]
  },
  {
   "cell_type": "markdown",
   "metadata": {},
   "source": [
    "## Cross validation with least squares"
   ]
  },
  {
   "cell_type": "code",
   "execution_count": 43,
   "metadata": {},
   "outputs": [
    {
     "name": "stdout",
     "output_type": "stream",
     "text": [
      "(4, 62500)\n",
      "exp=0, degree=1, Train loss, err_ratio=(0.088,0.266), Test loss, err_ratio=(0.088,0.266)\n",
      "exp=1, degree=3, Train loss, err_ratio=(0.081,0.239), Test loss, err_ratio=(1.627,0.240)\n",
      "exp=2, degree=7, Train loss, err_ratio=(0.079,0.225), Test loss, err_ratio=(82447866.810,0.225)\n",
      "exp=3, degree=11, Train loss, err_ratio=(0.075,0.206), Test loss, err_ratio=(355213321008866394112.000,0.207)\n",
      "exp=4, degree=12, Train loss, err_ratio=(0.075,0.205), Test loss, err_ratio=(4204608108250730594304.000,0.206)\n",
      "exp=5, degree=13, Train loss, err_ratio=(0.077,0.210), Test loss, err_ratio=(24543286522935610108280832.000,0.211)\n",
      "exp=6, degree=14, Train loss, err_ratio=(0.093,0.232), Test loss, err_ratio=(82609134220373679177004482560.000,0.232)\n"
     ]
    }
   ],
   "source": [
    "seed = 6\n",
    "degrees = [1, 3, 7, 11, 12, 13, 14]\n",
    "exp = 0\n",
    "\n",
    "loss_tr = []\n",
    "loss_te = []\n",
    "ratio_err_trains = []\n",
    "ratio_err_tests = []\n",
    "ws = []\n",
    "deg=[]\n",
    "\n",
    "k_fold = 4\n",
    "k_indices = build_k_indices(y, k_fold, seed)\n",
    "\n",
    "print(k_indices.shape)\n",
    "\n",
    "for degree in degrees:\n",
    "    phi = build_poly(x, degree)\n",
    "    loss_tr_k_fold = []\n",
    "    loss_te_k_fold = []\n",
    "    ratio_err_trains_k_fold = []\n",
    "    ratio_err_tests_k_fold = []\n",
    "    ws_k_fold = []\n",
    "    for k in range(k_fold):\n",
    "        # split the data, and return train and test data: TODO\n",
    "        phi_train, phi_test, y_train, y_test = split_data_k_fold(phi, y, k_indices, k)\n",
    "            \n",
    "        # calcualte weight through least square.: TODO\n",
    "        w,loss = least_squares(y_train, phi_train)\n",
    "        ws_k_fold.append(w)\n",
    "\n",
    "        # calculate RMSE for train and test data,\n",
    "        # and store them in rmse_tr and rmse_te respectively: TODO\n",
    "        loss_tr_k_fold.append(compute_loss(y_train,phi_train,w), logistic_reg=False)\n",
    "        loss_te_k_fold.append(compute_loss(y_test,phi_test,w), logistic_reg=False)\n",
    "    \n",
    "        error, ratio_error_train = compute_classification_error(y_train, phi_train, w)\n",
    "        error, ratio_error_test = compute_classification_error(y_test, phi_test, w)\n",
    "        \n",
    "        ratio_err_trains_k_fold.append(ratio_error_train)\n",
    "        ratio_err_tests_k_fold.append(ratio_error_test)\n",
    "        \n",
    "    get_best = False # get best or get mean\n",
    "        \n",
    "    if get_best:\n",
    "        idx = np.argmin(ratio_err_tests_k_fold) # get best experiment\n",
    "        ws.append(ws_k_fold[idx])\n",
    "        loss_tr.append(loss_tr_k_fold[idx])\n",
    "        loss_te.append(loss_te_k_fold[idx])\n",
    "        ratio_err_trains.append(ratio_err_trains_k_fold[idx])\n",
    "        ratio_err_tests.append(ratio_err_tests_k_fold[idx])\n",
    "    else:\n",
    "        ws.append(sum(ws_k_fold)/len(ws_k_fold))\n",
    "        loss_tr.append(sum(loss_tr_k_fold)/len(loss_tr_k_fold))\n",
    "        loss_te.append(sum(loss_te_k_fold)/len(loss_te_k_fold))\n",
    "        ratio_err_trains.append(sum(ratio_err_trains_k_fold)/len(ratio_err_trains_k_fold))\n",
    "        ratio_err_tests.append(sum(ratio_err_tests_k_fold)/len(ratio_err_tests_k_fold))\n",
    "        \n",
    "    deg.append(degree)\n",
    "        \n",
    "    print(\"exp={e}, degree={d}, Train loss, err_ratio=({tr:.3f},{er_tr:.3f}), Test loss, err_ratio=({te:.3f},{er_te:.3f})\".format(\n",
    "        e=exp, d=degree, tr=loss_tr[exp], te=loss_te[exp], er_tr=ratio_err_trains[exp], er_te=ratio_err_tests[exp]))\n",
    "    exp += 1\n"
   ]
  },
  {
   "cell_type": "code",
   "execution_count": 44,
   "metadata": {},
   "outputs": [
    {
     "name": "stdout",
     "output_type": "stream",
     "text": [
      "Take experiment 4 out of 7 experiments, degree=12, err_ratio=0.205836\n"
     ]
    }
   ],
   "source": [
    "idx = np.argmin(ratio_err_tests) # get best experiment\n",
    "w_LS_degree_CV = ws[idx]\n",
    "\n",
    "\n",
    "print(\"Take experiment {i} out of {tot} experiments, degree={d}, err_ratio={err}\".format(\n",
    "           i=idx, tot=len(ws), d=deg[idx], err=ratio_err_tests[idx]))"
   ]
  },
  {
   "cell_type": "code",
   "execution_count": null,
   "metadata": {
    "collapsed": true
   },
   "outputs": [],
   "source": []
  },
  {
   "cell_type": "markdown",
   "metadata": {},
   "source": [
    "## Cross validation with logistic regression\n",
    "Les choses sérieuses commencent ici avec des tests sur le logistic regression. Cependant, on peut directement passer à la section suivante, qui est une généralisation (il y a le \"lambda\" en plus) de ce code-ci."
   ]
  },
  {
   "cell_type": "code",
   "execution_count": null,
   "metadata": {
    "collapsed": true
   },
   "outputs": [],
   "source": [
    "def logistic_regression_split(x, y, degree, ratio, gamma, seed):\n",
    "    \"\"\"polynomial regression with different split ratios and different degrees.\"\"\"\n",
    "    # split the data, and return train and test data: TODO\n",
    "    x_train, x_test, y_train, y_test = split_data(x, y, ratio, seed)\n",
    "\n",
    "    # form train and test data with polynomial basis function: TODO\n",
    "    phi_train = build_poly(x_train, degree)\n",
    "    phi_test = build_poly(x_test, degree)\n",
    "    \n",
    "    w_initial = np.array([0]*(phi_train.shape[1]))\n",
    "    max_iters = 1000\n",
    "\n",
    "    \n",
    "    # calcualte weight through least square.: TODO\n",
    "    w,loss_tr = logistic_regression(y_train, phi_train, w_initial, max_iters, gamma)\n",
    "    \n",
    "    loss_te = compute_logistic_loss(y_test, phi_test, w)\n",
    "    # compute error and loss for train and test data\n",
    "    error, ratio_error_train = compute_classification_error(y_train, phi_train, w)\n",
    "    error, ratio_error_test = compute_classification_error(y_test, phi_test, w)\n",
    "\n",
    "    \n",
    "    print(\"proportion={p}, degree={d}, gamma={g}, Train loss, err_ratio=({tr:.3f},{er_tr:.3f}), Test loss, err_ratio=({te:.3f},{er_te:.3f})\".format(\n",
    "          p=ratio, d=degree, g=gamma, tr=loss_tr, te=loss_te, er_tr=ratio_error_train, er_te=ratio_error_test))\n",
    "    return w, ratio_error_train, ratio_error_test\n"
   ]
  },
  {
   "cell_type": "code",
   "execution_count": null,
   "metadata": {
    "collapsed": true
   },
   "outputs": [],
   "source": [
    "seed = 6\n",
    "degrees = [1, 3, 7, 12]\n",
    "split_ratios = [0.9, 0.8, 0.5, 0.1]\n",
    "gammas = [1e-9, 1e-8, 1e-7, 1e-6, 1e-5, 1e-4, 1e-3, 1e-2, 1e-1, 0.2, 0.5]\n",
    "\n",
    "ws = []\n",
    "ratio_err_trains = []\n",
    "ratio_err_tests = []\n",
    "\n",
    "for split_ratio in split_ratios:\n",
    "    for degree in degrees:\n",
    "        for gamma in gammas:\n",
    "            w, ratio_error_train, ratio_error_test = logistic_regression_split(x, y, degree, split_ratio, gamma, seed)\n",
    "            ws.append(w)\n",
    "            ratio_err_trains.append(ratio_error_train)\n",
    "            ratio_err_tests.append(ratio_error_test)\n",
    "            "
   ]
  },
  {
   "cell_type": "markdown",
   "metadata": {},
   "source": [
    "## Cross validation with regularized logistic regression\n",
    "Voilà le code utilisé pour la première soumission. Attention: le code est long... pour bien faire il faudrait mettre un grand nombre de paramètres et faire tourner le code pendant ~1heure (brute-force, mais il se peut que ça fonctionne bien)"
   ]
  },
  {
   "cell_type": "code",
   "execution_count": 5,
   "metadata": {
    "collapsed": true
   },
   "outputs": [],
   "source": [
    "def reg_logistic_regression_split(x, y, degree, ratio, gamma, lambda_, seed):\n",
    "    \"\"\"polynomial regression with different split ratios and different degrees.\"\"\"\n",
    "    # split the data, and return train and test data: TODO\n",
    "    x_train, x_test, y_train, y_test = split_data(x, y, ratio, seed)\n",
    "\n",
    "    # form train and test data with polynomial basis function: TODO\n",
    "    phi_train = build_poly(x_train, degree)\n",
    "    phi_test = build_poly(x_test, degree)\n",
    "    \n",
    "    w_initial = np.array([0]*(phi_train.shape[1]))\n",
    "    max_iters = 1000\n",
    "\n",
    "    \n",
    "    # calcualte weight through logistic regression\n",
    "    w, loss_tr = reg_logistic_regression(y_train, phi_train, lambda_, w_initial, max_iters, gamma, SGD=False)\n",
    "    \n",
    "    loss_te = compute_logistic_loss(y_test, phi_test, w)\n",
    "    # compute error and loss for train and test data\n",
    "    error, ratio_error_train = compute_classification_error(y_train, phi_train, w)\n",
    "    error, ratio_error_test = compute_classification_error(y_test, phi_test, w)\n",
    "\n",
    "    \n",
    "    print(\"prop={p}, deg={d}, g={g:.3f}, l={l:.3f}, Train loss, err_ratio=({tr:.3f},{er_tr:.3f}), Test loss, err_ratio=({te:.3f},{er_te:.3f})\".format(\n",
    "          p=ratio, d=degree, g=gamma, l=lambda_, tr=loss_tr, te=loss_te, er_tr=ratio_error_train, er_te=ratio_error_test))\n",
    "    return w, ratio_error_train, ratio_error_test\n"
   ]
  },
  {
   "cell_type": "code",
   "execution_count": 6,
   "metadata": {},
   "outputs": [
    {
     "name": "stdout",
     "output_type": "stream",
     "text": [
      "prop=0.9, deg=1, g=0.000, l=0.000, Train loss, err_ratio=(150912.639,0.313), Test loss, err_ratio=(16748.710,0.308)\n",
      "prop=0.9, deg=1, g=0.000, l=0.000, Train loss, err_ratio=(150883.074,0.313), Test loss, err_ratio=(16764.050,0.312)\n",
      "prop=0.9, deg=1, g=0.000, l=0.000, Train loss, err_ratio=(150894.001,0.313), Test loss, err_ratio=(16757.850,0.312)\n",
      "prop=0.9, deg=1, g=0.000, l=0.000, Train loss, err_ratio=(150886.808,0.313), Test loss, err_ratio=(16762.394,0.313)\n",
      "prop=0.9, deg=1, g=0.000, l=0.001, Train loss, err_ratio=(150875.015,0.312), Test loss, err_ratio=(16768.347,0.315)\n",
      "prop=0.9, deg=1, g=0.000, l=0.001, Train loss, err_ratio=(150886.975,0.312), Test loss, err_ratio=(16761.675,0.312)\n",
      "prop=0.9, deg=1, g=0.000, l=0.004, Train loss, err_ratio=(150853.212,0.312), Test loss, err_ratio=(16778.842,0.317)\n",
      "prop=0.9, deg=1, g=0.000, l=0.010, Train loss, err_ratio=(150908.928,0.313), Test loss, err_ratio=(16750.819,0.307)\n",
      "prop=0.9, deg=1, g=0.000, l=0.027, Train loss, err_ratio=(150871.489,0.313), Test loss, err_ratio=(16770.248,0.314)\n",
      "prop=0.9, deg=1, g=0.000, l=0.072, Train loss, err_ratio=(150890.464,0.312), Test loss, err_ratio=(16760.255,0.315)\n",
      "prop=0.9, deg=1, g=0.000, l=0.193, Train loss, err_ratio=(150886.566,0.313), Test loss, err_ratio=(16762.433,0.312)\n",
      "prop=0.9, deg=1, g=0.000, l=0.518, Train loss, err_ratio=(150871.440,0.312), Test loss, err_ratio=(16769.872,0.315)\n",
      "prop=0.9, deg=1, g=0.000, l=1.389, Train loss, err_ratio=(150898.985,0.313), Test loss, err_ratio=(16755.775,0.310)\n",
      "prop=0.9, deg=1, g=0.000, l=3.728, Train loss, err_ratio=(150899.370,0.313), Test loss, err_ratio=(16756.326,0.309)\n",
      "prop=0.9, deg=1, g=0.000, l=10.000, Train loss, err_ratio=(150911.086,0.313), Test loss, err_ratio=(16749.742,0.309)\n",
      "prop=0.9, deg=1, g=0.000, l=0.000, Train loss, err_ratio=(119057.108,0.270), Test loss, err_ratio=(13223.923,0.271)\n",
      "prop=0.9, deg=1, g=0.000, l=0.000, Train loss, err_ratio=(119020.907,0.270), Test loss, err_ratio=(13245.225,0.270)\n",
      "prop=0.9, deg=1, g=0.000, l=0.000, Train loss, err_ratio=(118969.604,0.269), Test loss, err_ratio=(13302.068,0.275)\n",
      "prop=0.9, deg=1, g=0.000, l=0.000, Train loss, err_ratio=(119120.340,0.270), Test loss, err_ratio=(13166.018,0.269)\n",
      "prop=0.9, deg=1, g=0.000, l=0.001, Train loss, err_ratio=(119058.925,0.270), Test loss, err_ratio=(13208.591,0.270)\n",
      "prop=0.9, deg=1, g=0.000, l=0.001, Train loss, err_ratio=(119068.468,0.270), Test loss, err_ratio=(13212.347,0.267)\n",
      "prop=0.9, deg=1, g=0.000, l=0.004, Train loss, err_ratio=(119049.699,0.270), Test loss, err_ratio=(13209.372,0.266)\n",
      "prop=0.9, deg=1, g=0.000, l=0.010, Train loss, err_ratio=(119112.773,0.270), Test loss, err_ratio=(13173.822,0.268)\n",
      "prop=0.9, deg=1, g=0.000, l=0.027, Train loss, err_ratio=(118938.582,0.269), Test loss, err_ratio=(13357.471,0.275)\n",
      "prop=0.9, deg=1, g=0.000, l=0.072, Train loss, err_ratio=(119014.405,0.270), Test loss, err_ratio=(13256.786,0.270)\n",
      "prop=0.9, deg=1, g=0.000, l=0.193, Train loss, err_ratio=(118952.348,0.270), Test loss, err_ratio=(13329.945,0.270)\n",
      "prop=0.9, deg=1, g=0.000, l=0.518, Train loss, err_ratio=(118895.629,0.269), Test loss, err_ratio=(13374.101,0.273)\n",
      "prop=0.9, deg=1, g=0.000, l=1.389, Train loss, err_ratio=(119051.974,0.270), Test loss, err_ratio=(13224.436,0.269)\n",
      "prop=0.9, deg=1, g=0.000, l=3.728, Train loss, err_ratio=(119054.752,0.270), Test loss, err_ratio=(13227.783,0.272)\n",
      "prop=0.9, deg=1, g=0.000, l=10.000, Train loss, err_ratio=(119027.979,0.270), Test loss, err_ratio=(13249.361,0.271)\n",
      "prop=0.9, deg=1, g=0.000, l=0.000, Train loss, err_ratio=(116578.540,0.262), Test loss, err_ratio=(13114.767,0.265)\n",
      "prop=0.9, deg=1, g=0.000, l=0.000, Train loss, err_ratio=(116681.056,0.262), Test loss, err_ratio=(13072.338,0.270)\n",
      "prop=0.9, deg=1, g=0.000, l=0.000, Train loss, err_ratio=(116898.026,0.263), Test loss, err_ratio=(12937.212,0.262)\n",
      "prop=0.9, deg=1, g=0.000, l=0.000, Train loss, err_ratio=(116708.942,0.263), Test loss, err_ratio=(13036.046,0.264)\n",
      "prop=0.9, deg=1, g=0.000, l=0.001, Train loss, err_ratio=(117011.861,0.263), Test loss, err_ratio=(12933.600,0.262)\n",
      "prop=0.9, deg=1, g=0.000, l=0.001, Train loss, err_ratio=(116870.768,0.263), Test loss, err_ratio=(12932.562,0.262)\n",
      "prop=0.9, deg=1, g=0.000, l=0.004, Train loss, err_ratio=(116773.757,0.263), Test loss, err_ratio=(12935.313,0.261)\n",
      "prop=0.9, deg=1, g=0.000, l=0.010, Train loss, err_ratio=(116890.458,0.263), Test loss, err_ratio=(12959.555,0.265)\n",
      "prop=0.9, deg=1, g=0.000, l=0.027, Train loss, err_ratio=(116710.893,0.263), Test loss, err_ratio=(12973.345,0.262)\n",
      "prop=0.9, deg=1, g=0.000, l=0.072, Train loss, err_ratio=(116828.353,0.263), Test loss, err_ratio=(13089.794,0.267)\n",
      "prop=0.9, deg=1, g=0.000, l=0.193, Train loss, err_ratio=(116594.925,0.262), Test loss, err_ratio=(13035.622,0.264)\n",
      "prop=0.9, deg=1, g=0.000, l=0.518, Train loss, err_ratio=(117003.108,0.263), Test loss, err_ratio=(12986.504,0.261)\n",
      "prop=0.9, deg=1, g=0.000, l=1.389, Train loss, err_ratio=(117082.327,0.263), Test loss, err_ratio=(12970.653,0.266)\n",
      "prop=0.9, deg=1, g=0.000, l=3.728, Train loss, err_ratio=(116921.155,0.263), Test loss, err_ratio=(13001.339,0.266)\n",
      "prop=0.9, deg=1, g=0.000, l=10.000, Train loss, err_ratio=(117258.933,0.264), Test loss, err_ratio=(12921.174,0.261)\n"
     ]
    },
    {
     "name": "stderr",
     "output_type": "stream",
     "text": [
      "/Users/philippe/Desktop/ML_Projects/project1/phil/auxiliary.py:58: RuntimeWarning: overflow encountered in exp\n",
      "  loss = np.sum(np.log(1.0+np.exp(tx.dot(w))) - y*(tx.dot(w)))\n",
      "/Users/philippe/Desktop/ML_Projects/project1/phil/auxiliary.py:237: RuntimeWarning: invalid value encountered in double_scalars\n",
      "  if abs(a-b) < threshold:\n"
     ]
    },
    {
     "name": "stdout",
     "output_type": "stream",
     "text": [
      "prop=0.9, deg=1, g=0.001, l=0.000, Train loss, err_ratio=(inf,0.303), Test loss, err_ratio=(643542.706,0.306)\n",
      "prop=0.9, deg=1, g=0.001, l=0.000, Train loss, err_ratio=(inf,0.302), Test loss, err_ratio=(625869.052,0.301)\n",
      "prop=0.9, deg=1, g=0.001, l=0.000, Train loss, err_ratio=(inf,0.299), Test loss, err_ratio=(609901.702,0.299)\n",
      "prop=0.9, deg=1, g=0.001, l=0.000, Train loss, err_ratio=(inf,0.303), Test loss, err_ratio=(619249.526,0.301)\n",
      "prop=0.9, deg=1, g=0.001, l=0.001, Train loss, err_ratio=(inf,0.302), Test loss, err_ratio=(631313.303,0.304)\n",
      "prop=0.9, deg=1, g=0.001, l=0.001, Train loss, err_ratio=(inf,0.300), Test loss, err_ratio=(614549.961,0.301)\n",
      "prop=0.9, deg=1, g=0.001, l=0.004, Train loss, err_ratio=(inf,0.302), Test loss, err_ratio=(609278.622,0.299)\n",
      "prop=0.9, deg=1, g=0.001, l=0.010, Train loss, err_ratio=(inf,0.301), Test loss, err_ratio=(610910.813,0.297)\n",
      "prop=0.9, deg=1, g=0.001, l=0.027, Train loss, err_ratio=(inf,0.304), Test loss, err_ratio=(660514.584,0.312)\n",
      "prop=0.9, deg=1, g=0.001, l=0.072, Train loss, err_ratio=(inf,0.304), Test loss, err_ratio=(652636.679,0.308)\n",
      "prop=0.9, deg=1, g=0.001, l=0.193, Train loss, err_ratio=(inf,0.300), Test loss, err_ratio=(625073.102,0.302)\n",
      "prop=0.9, deg=1, g=0.001, l=0.518, Train loss, err_ratio=(inf,0.299), Test loss, err_ratio=(631122.743,0.301)\n",
      "prop=0.9, deg=1, g=0.001, l=1.389, Train loss, err_ratio=(inf,0.294), Test loss, err_ratio=(596286.440,0.290)\n",
      "prop=0.9, deg=1, g=0.001, l=3.728, Train loss, err_ratio=(inf,0.288), Test loss, err_ratio=(562969.296,0.288)\n",
      "prop=0.9, deg=1, g=0.001, l=10.000, Train loss, err_ratio=(inf,0.281), Test loss, err_ratio=(inf,0.284)\n",
      "prop=0.9, deg=1, g=0.100, l=0.000, Train loss, err_ratio=(inf,0.302), Test loss, err_ratio=(inf,0.305)\n",
      "prop=0.9, deg=1, g=0.100, l=0.000, Train loss, err_ratio=(inf,0.304), Test loss, err_ratio=(inf,0.306)\n",
      "prop=0.9, deg=1, g=0.100, l=0.000, Train loss, err_ratio=(inf,0.302), Test loss, err_ratio=(inf,0.301)\n",
      "prop=0.9, deg=1, g=0.100, l=0.000, Train loss, err_ratio=(inf,0.302), Test loss, err_ratio=(inf,0.301)\n",
      "prop=0.9, deg=1, g=0.100, l=0.001, Train loss, err_ratio=(inf,0.303), Test loss, err_ratio=(inf,0.307)\n",
      "prop=0.9, deg=1, g=0.100, l=0.001, Train loss, err_ratio=(inf,0.300), Test loss, err_ratio=(inf,0.297)\n",
      "prop=0.9, deg=1, g=0.100, l=0.004, Train loss, err_ratio=(inf,0.299), Test loss, err_ratio=(inf,0.304)\n",
      "prop=0.9, deg=1, g=0.100, l=0.010, Train loss, err_ratio=(inf,0.296), Test loss, err_ratio=(inf,0.297)\n",
      "prop=0.9, deg=1, g=0.100, l=0.027, Train loss, err_ratio=(inf,0.291), Test loss, err_ratio=(inf,0.290)\n",
      "prop=0.9, deg=1, g=0.100, l=0.072, Train loss, err_ratio=(inf,0.283), Test loss, err_ratio=(inf,0.285)\n",
      "prop=0.9, deg=1, g=0.100, l=0.193, Train loss, err_ratio=(inf,0.281), Test loss, err_ratio=(inf,0.282)\n",
      "prop=0.9, deg=1, g=0.100, l=0.518, Train loss, err_ratio=(inf,0.289), Test loss, err_ratio=(inf,0.289)\n",
      "prop=0.9, deg=1, g=0.100, l=1.389, Train loss, err_ratio=(inf,0.335), Test loss, err_ratio=(inf,0.338)\n",
      "prop=0.9, deg=1, g=0.100, l=3.728, Train loss, err_ratio=(inf,0.581), Test loss, err_ratio=(inf,0.580)\n",
      "prop=0.9, deg=1, g=0.100, l=10.000, Train loss, err_ratio=(inf,0.630), Test loss, err_ratio=(inf,0.630)\n",
      "prop=0.9, deg=1, g=0.500, l=0.000, Train loss, err_ratio=(inf,0.303), Test loss, err_ratio=(inf,0.305)\n",
      "prop=0.9, deg=1, g=0.500, l=0.000, Train loss, err_ratio=(inf,0.300), Test loss, err_ratio=(inf,0.294)\n",
      "prop=0.9, deg=1, g=0.500, l=0.000, Train loss, err_ratio=(inf,0.302), Test loss, err_ratio=(inf,0.303)\n",
      "prop=0.9, deg=1, g=0.500, l=0.000, Train loss, err_ratio=(inf,0.301), Test loss, err_ratio=(inf,0.299)\n",
      "prop=0.9, deg=1, g=0.500, l=0.001, Train loss, err_ratio=(inf,0.298), Test loss, err_ratio=(inf,0.291)\n",
      "prop=0.9, deg=1, g=0.500, l=0.001, Train loss, err_ratio=(inf,0.299), Test loss, err_ratio=(inf,0.305)\n",
      "prop=0.9, deg=1, g=0.500, l=0.004, Train loss, err_ratio=(inf,0.292), Test loss, err_ratio=(inf,0.292)\n",
      "prop=0.9, deg=1, g=0.500, l=0.010, Train loss, err_ratio=(inf,0.287), Test loss, err_ratio=(inf,0.281)\n",
      "prop=0.9, deg=1, g=0.500, l=0.027, Train loss, err_ratio=(inf,0.281), Test loss, err_ratio=(inf,0.278)\n",
      "prop=0.9, deg=1, g=0.500, l=0.072, Train loss, err_ratio=(inf,0.284), Test loss, err_ratio=(inf,0.281)\n",
      "prop=0.9, deg=1, g=0.500, l=0.193, Train loss, err_ratio=(inf,0.307), Test loss, err_ratio=(inf,0.306)\n",
      "prop=0.9, deg=1, g=0.500, l=0.518, Train loss, err_ratio=(inf,0.527), Test loss, err_ratio=(inf,0.530)\n",
      "prop=0.9, deg=1, g=0.500, l=1.389, Train loss, err_ratio=(inf,0.621), Test loss, err_ratio=(inf,0.622)\n"
     ]
    },
    {
     "name": "stderr",
     "output_type": "stream",
     "text": [
      "/Users/philippe/Desktop/ML_Projects/project1/phil/auxiliary.py:67: RuntimeWarning: overflow encountered in double_scalars\n",
      "  loss_reg = lambda_ * w.T.dot(w)\n",
      "/Users/philippe/Desktop/ML_Projects/project1/phil/auxiliary.py:58: RuntimeWarning: invalid value encountered in multiply\n",
      "  loss = np.sum(np.log(1.0+np.exp(tx.dot(w))) - y*(tx.dot(w)))\n",
      "/Users/philippe/Desktop/ML_Projects/project1/phil/auxiliary.py:58: RuntimeWarning: invalid value encountered in subtract\n",
      "  loss = np.sum(np.log(1.0+np.exp(tx.dot(w))) - y*(tx.dot(w)))\n",
      "/Users/philippe/Desktop/ML_Projects/project1/phil/auxiliary.py:50: RuntimeWarning: invalid value encountered in greater\n",
      "  t[t>100.0]=100.0\n",
      "/Users/philippe/Desktop/ML_Projects/project1/phil/auxiliary.py:51: RuntimeWarning: invalid value encountered in less\n",
      "  t[t<-100.0]=-100.0\n",
      "/Users/philippe/Desktop/ML_Projects/project1/phil/proj1_helpers.py:62: RuntimeWarning: invalid value encountered in less_equal\n",
      "  y_pred[np.where(y_pred <= 0)] = 0\n",
      "/Users/philippe/Desktop/ML_Projects/project1/phil/proj1_helpers.py:63: RuntimeWarning: invalid value encountered in greater\n",
      "  y_pred[np.where(y_pred > 0)] = 1\n"
     ]
    },
    {
     "name": "stdout",
     "output_type": "stream",
     "text": [
      "prop=0.9, deg=1, g=0.500, l=3.728, Train loss, err_ratio=(nan,1.000), Test loss, err_ratio=(nan,1.000)\n"
     ]
    },
    {
     "name": "stderr",
     "output_type": "stream",
     "text": [
      "/Users/philippe/Desktop/ML_Projects/project1/phil/auxiliary.py:68: RuntimeWarning: overflow encountered in multiply\n",
      "  gradient_reg = 2 * lambda_ * w\n"
     ]
    },
    {
     "name": "stdout",
     "output_type": "stream",
     "text": [
      "prop=0.9, deg=1, g=0.500, l=10.000, Train loss, err_ratio=(nan,1.000), Test loss, err_ratio=(nan,1.000)\n",
      "prop=0.9, deg=3, g=0.000, l=0.000, Train loss, err_ratio=(inf,0.328), Test loss, err_ratio=(15455.236,0.327)\n",
      "prop=0.9, deg=3, g=0.000, l=0.000, Train loss, err_ratio=(inf,0.328), Test loss, err_ratio=(15357.665,0.325)\n",
      "prop=0.9, deg=3, g=0.000, l=0.000, Train loss, err_ratio=(inf,0.327), Test loss, err_ratio=(15430.190,0.324)\n",
      "prop=0.9, deg=3, g=0.000, l=0.000, Train loss, err_ratio=(inf,0.328), Test loss, err_ratio=(15327.870,0.323)\n",
      "prop=0.9, deg=3, g=0.000, l=0.001, Train loss, err_ratio=(inf,0.326), Test loss, err_ratio=(15427.238,0.327)\n",
      "prop=0.9, deg=3, g=0.000, l=0.001, Train loss, err_ratio=(inf,0.327), Test loss, err_ratio=(15521.911,0.327)\n",
      "prop=0.9, deg=3, g=0.000, l=0.004, Train loss, err_ratio=(inf,0.327), Test loss, err_ratio=(15445.791,0.327)\n",
      "prop=0.9, deg=3, g=0.000, l=0.010, Train loss, err_ratio=(inf,0.327), Test loss, err_ratio=(15443.043,0.327)\n",
      "prop=0.9, deg=3, g=0.000, l=0.027, Train loss, err_ratio=(inf,0.327), Test loss, err_ratio=(15401.040,0.328)\n",
      "prop=0.9, deg=3, g=0.000, l=0.072, Train loss, err_ratio=(inf,0.327), Test loss, err_ratio=(15433.705,0.327)\n",
      "prop=0.9, deg=3, g=0.000, l=0.193, Train loss, err_ratio=(inf,0.327), Test loss, err_ratio=(15432.557,0.325)\n",
      "prop=0.9, deg=3, g=0.000, l=0.518, Train loss, err_ratio=(inf,0.327), Test loss, err_ratio=(15525.899,0.327)\n",
      "prop=0.9, deg=3, g=0.000, l=1.389, Train loss, err_ratio=(inf,0.327), Test loss, err_ratio=(15525.684,0.330)\n",
      "prop=0.9, deg=3, g=0.000, l=3.728, Train loss, err_ratio=(inf,0.327), Test loss, err_ratio=(15520.916,0.334)\n",
      "prop=0.9, deg=3, g=0.000, l=10.000, Train loss, err_ratio=(inf,0.327), Test loss, err_ratio=(15442.681,0.326)\n",
      "prop=0.9, deg=3, g=0.000, l=0.000, Train loss, err_ratio=(inf,0.230), Test loss, err_ratio=(18748.678,0.231)\n",
      "prop=0.9, deg=3, g=0.000, l=0.000, Train loss, err_ratio=(111608.368,0.221), Test loss, err_ratio=(inf,0.225)\n",
      "prop=0.9, deg=3, g=0.000, l=0.000, Train loss, err_ratio=(112006.795,0.221), Test loss, err_ratio=(inf,0.226)\n",
      "prop=0.9, deg=3, g=0.000, l=0.000, Train loss, err_ratio=(inf,0.219), Test loss, err_ratio=(12689.058,0.219)\n",
      "prop=0.9, deg=3, g=0.000, l=0.001, Train loss, err_ratio=(inf,0.220), Test loss, err_ratio=(12871.844,0.219)\n",
      "prop=0.9, deg=3, g=0.000, l=0.001, Train loss, err_ratio=(inf,0.220), Test loss, err_ratio=(12410.784,0.218)\n",
      "prop=0.9, deg=3, g=0.000, l=0.004, Train loss, err_ratio=(inf,0.218), Test loss, err_ratio=(12142.649,0.217)\n",
      "prop=0.9, deg=3, g=0.000, l=0.010, Train loss, err_ratio=(inf,0.220), Test loss, err_ratio=(13028.981,0.223)\n",
      "prop=0.9, deg=3, g=0.000, l=0.027, Train loss, err_ratio=(111158.122,0.221), Test loss, err_ratio=(inf,0.218)\n",
      "prop=0.9, deg=3, g=0.000, l=0.072, Train loss, err_ratio=(inf,0.219), Test loss, err_ratio=(12771.439,0.222)\n",
      "prop=0.9, deg=3, g=0.000, l=0.193, Train loss, err_ratio=(111462.068,0.221), Test loss, err_ratio=(inf,0.222)\n",
      "prop=0.9, deg=3, g=0.000, l=0.518, Train loss, err_ratio=(inf,0.219), Test loss, err_ratio=(11849.909,0.214)\n",
      "prop=0.9, deg=3, g=0.000, l=1.389, Train loss, err_ratio=(inf,0.220), Test loss, err_ratio=(12251.572,0.219)\n",
      "prop=0.9, deg=3, g=0.000, l=3.728, Train loss, err_ratio=(inf,0.220), Test loss, err_ratio=(12460.194,0.223)\n",
      "prop=0.9, deg=3, g=0.000, l=10.000, Train loss, err_ratio=(inf,0.220), Test loss, err_ratio=(12390.564,0.215)\n",
      "prop=0.9, deg=3, g=0.000, l=0.000, Train loss, err_ratio=(3346516.188,0.248), Test loss, err_ratio=(inf,0.246)\n",
      "prop=0.9, deg=3, g=0.000, l=0.000, Train loss, err_ratio=(inf,0.283), Test loss, err_ratio=(381392.374,0.281)\n",
      "prop=0.9, deg=3, g=0.000, l=0.000, Train loss, err_ratio=(inf,0.282), Test loss, err_ratio=(392440.539,0.280)\n",
      "prop=0.9, deg=3, g=0.000, l=0.000, Train loss, err_ratio=(inf,0.282), Test loss, err_ratio=(368819.864,0.279)\n",
      "prop=0.9, deg=3, g=0.000, l=0.001, Train loss, err_ratio=(inf,0.266), Test loss, err_ratio=(inf,0.272)\n",
      "prop=0.9, deg=3, g=0.000, l=0.001, Train loss, err_ratio=(3314266.148,0.255), Test loss, err_ratio=(inf,0.255)\n",
      "prop=0.9, deg=3, g=0.000, l=0.004, Train loss, err_ratio=(3507179.203,0.260), Test loss, err_ratio=(inf,0.265)\n",
      "prop=0.9, deg=3, g=0.000, l=0.010, Train loss, err_ratio=(inf,0.269), Test loss, err_ratio=(inf,0.270)\n",
      "prop=0.9, deg=3, g=0.000, l=0.027, Train loss, err_ratio=(inf,0.259), Test loss, err_ratio=(inf,0.257)\n",
      "prop=0.9, deg=3, g=0.000, l=0.072, Train loss, err_ratio=(inf,0.260), Test loss, err_ratio=(inf,0.259)\n",
      "prop=0.9, deg=3, g=0.000, l=0.193, Train loss, err_ratio=(inf,0.261), Test loss, err_ratio=(162874.243,0.256)\n",
      "prop=0.9, deg=3, g=0.000, l=0.518, Train loss, err_ratio=(inf,0.259), Test loss, err_ratio=(inf,0.260)\n",
      "prop=0.9, deg=3, g=0.000, l=1.389, Train loss, err_ratio=(inf,0.260), Test loss, err_ratio=(inf,0.260)\n",
      "prop=0.9, deg=3, g=0.000, l=3.728, Train loss, err_ratio=(inf,0.310), Test loss, err_ratio=(inf,0.315)\n",
      "prop=0.9, deg=3, g=0.000, l=10.000, Train loss, err_ratio=(inf,0.281), Test loss, err_ratio=(inf,0.281)\n",
      "prop=0.9, deg=3, g=0.001, l=0.000, Train loss, err_ratio=(inf,0.275), Test loss, err_ratio=(inf,0.273)\n",
      "prop=0.9, deg=3, g=0.001, l=0.000, Train loss, err_ratio=(inf,0.289), Test loss, err_ratio=(inf,0.293)\n",
      "prop=0.9, deg=3, g=0.001, l=0.000, Train loss, err_ratio=(inf,0.266), Test loss, err_ratio=(inf,0.262)\n",
      "prop=0.9, deg=3, g=0.001, l=0.000, Train loss, err_ratio=(inf,0.265), Test loss, err_ratio=(inf,0.262)\n",
      "prop=0.9, deg=3, g=0.001, l=0.001, Train loss, err_ratio=(inf,0.293), Test loss, err_ratio=(inf,0.292)\n",
      "prop=0.9, deg=3, g=0.001, l=0.001, Train loss, err_ratio=(inf,0.273), Test loss, err_ratio=(inf,0.263)\n",
      "prop=0.9, deg=3, g=0.001, l=0.004, Train loss, err_ratio=(inf,0.288), Test loss, err_ratio=(inf,0.285)\n",
      "prop=0.9, deg=3, g=0.001, l=0.010, Train loss, err_ratio=(inf,0.315), Test loss, err_ratio=(inf,0.309)\n",
      "prop=0.9, deg=3, g=0.001, l=0.027, Train loss, err_ratio=(inf,0.282), Test loss, err_ratio=(inf,0.280)\n",
      "prop=0.9, deg=3, g=0.001, l=0.072, Train loss, err_ratio=(inf,0.241), Test loss, err_ratio=(inf,0.243)\n",
      "prop=0.9, deg=3, g=0.001, l=0.193, Train loss, err_ratio=(inf,0.264), Test loss, err_ratio=(inf,0.262)\n",
      "prop=0.9, deg=3, g=0.001, l=0.518, Train loss, err_ratio=(inf,0.269), Test loss, err_ratio=(inf,0.268)\n",
      "prop=0.9, deg=3, g=0.001, l=1.389, Train loss, err_ratio=(inf,0.310), Test loss, err_ratio=(inf,0.307)\n",
      "prop=0.9, deg=3, g=0.001, l=3.728, Train loss, err_ratio=(inf,0.294), Test loss, err_ratio=(inf,0.296)\n",
      "prop=0.9, deg=3, g=0.001, l=10.000, Train loss, err_ratio=(inf,0.316), Test loss, err_ratio=(inf,0.315)\n",
      "prop=0.9, deg=3, g=0.100, l=0.000, Train loss, err_ratio=(inf,0.287), Test loss, err_ratio=(inf,0.283)\n",
      "prop=0.9, deg=3, g=0.100, l=0.000, Train loss, err_ratio=(inf,0.248), Test loss, err_ratio=(inf,0.248)\n",
      "prop=0.9, deg=3, g=0.100, l=0.000, Train loss, err_ratio=(inf,0.284), Test loss, err_ratio=(inf,0.286)\n",
      "prop=0.9, deg=3, g=0.100, l=0.000, Train loss, err_ratio=(inf,0.271), Test loss, err_ratio=(inf,0.273)\n",
      "prop=0.9, deg=3, g=0.100, l=0.001, Train loss, err_ratio=(inf,0.286), Test loss, err_ratio=(inf,0.289)\n",
      "prop=0.9, deg=3, g=0.100, l=0.001, Train loss, err_ratio=(inf,0.304), Test loss, err_ratio=(inf,0.304)\n",
      "prop=0.9, deg=3, g=0.100, l=0.004, Train loss, err_ratio=(inf,0.292), Test loss, err_ratio=(inf,0.294)\n",
      "prop=0.9, deg=3, g=0.100, l=0.010, Train loss, err_ratio=(inf,0.281), Test loss, err_ratio=(inf,0.280)\n",
      "prop=0.9, deg=3, g=0.100, l=0.027, Train loss, err_ratio=(inf,0.307), Test loss, err_ratio=(inf,0.300)\n",
      "prop=0.9, deg=3, g=0.100, l=0.072, Train loss, err_ratio=(inf,0.322), Test loss, err_ratio=(inf,0.322)\n",
      "prop=0.9, deg=3, g=0.100, l=0.193, Train loss, err_ratio=(inf,0.348), Test loss, err_ratio=(inf,0.352)\n",
      "prop=0.9, deg=3, g=0.100, l=0.518, Train loss, err_ratio=(inf,0.368), Test loss, err_ratio=(inf,0.372)\n",
      "prop=0.9, deg=3, g=0.100, l=1.389, Train loss, err_ratio=(inf,0.378), Test loss, err_ratio=(inf,0.375)\n",
      "prop=0.9, deg=3, g=0.100, l=3.728, Train loss, err_ratio=(inf,0.470), Test loss, err_ratio=(inf,0.471)\n",
      "prop=0.9, deg=3, g=0.100, l=10.000, Train loss, err_ratio=(inf,0.611), Test loss, err_ratio=(inf,0.613)\n",
      "prop=0.9, deg=3, g=0.500, l=0.000, Train loss, err_ratio=(inf,0.287), Test loss, err_ratio=(inf,0.287)\n",
      "prop=0.9, deg=3, g=0.500, l=0.000, Train loss, err_ratio=(inf,0.315), Test loss, err_ratio=(inf,0.313)\n"
     ]
    },
    {
     "name": "stdout",
     "output_type": "stream",
     "text": [
      "prop=0.9, deg=3, g=0.500, l=0.000, Train loss, err_ratio=(inf,0.261), Test loss, err_ratio=(inf,0.265)\n",
      "prop=0.9, deg=3, g=0.500, l=0.000, Train loss, err_ratio=(inf,0.287), Test loss, err_ratio=(inf,0.289)\n",
      "prop=0.9, deg=3, g=0.500, l=0.001, Train loss, err_ratio=(inf,0.290), Test loss, err_ratio=(inf,0.292)\n",
      "prop=0.9, deg=3, g=0.500, l=0.001, Train loss, err_ratio=(inf,0.281), Test loss, err_ratio=(inf,0.278)\n",
      "prop=0.9, deg=3, g=0.500, l=0.004, Train loss, err_ratio=(inf,0.301), Test loss, err_ratio=(inf,0.301)\n",
      "prop=0.9, deg=3, g=0.500, l=0.010, Train loss, err_ratio=(inf,0.281), Test loss, err_ratio=(inf,0.279)\n",
      "prop=0.9, deg=3, g=0.500, l=0.027, Train loss, err_ratio=(inf,0.338), Test loss, err_ratio=(inf,0.340)\n",
      "prop=0.9, deg=3, g=0.500, l=0.072, Train loss, err_ratio=(inf,0.333), Test loss, err_ratio=(inf,0.334)\n",
      "prop=0.9, deg=3, g=0.500, l=0.193, Train loss, err_ratio=(inf,0.294), Test loss, err_ratio=(inf,0.297)\n",
      "prop=0.9, deg=3, g=0.500, l=0.518, Train loss, err_ratio=(inf,0.339), Test loss, err_ratio=(inf,0.340)\n",
      "prop=0.9, deg=3, g=0.500, l=1.389, Train loss, err_ratio=(inf,0.603), Test loss, err_ratio=(inf,0.600)\n",
      "prop=0.9, deg=3, g=0.500, l=3.728, Train loss, err_ratio=(nan,1.000), Test loss, err_ratio=(nan,1.000)\n",
      "prop=0.9, deg=3, g=0.500, l=10.000, Train loss, err_ratio=(nan,1.000), Test loss, err_ratio=(nan,1.000)\n",
      "prop=0.9, deg=7, g=0.000, l=0.000, Train loss, err_ratio=(inf,0.498), Test loss, err_ratio=(inf,0.497)\n",
      "prop=0.9, deg=7, g=0.000, l=0.000, Train loss, err_ratio=(inf,0.453), Test loss, err_ratio=(inf,0.454)\n",
      "prop=0.9, deg=7, g=0.000, l=0.000, Train loss, err_ratio=(inf,0.455), Test loss, err_ratio=(inf,0.453)\n",
      "prop=0.9, deg=7, g=0.000, l=0.000, Train loss, err_ratio=(inf,0.462), Test loss, err_ratio=(inf,0.465)\n",
      "prop=0.9, deg=7, g=0.000, l=0.001, Train loss, err_ratio=(inf,0.452), Test loss, err_ratio=(inf,0.455)\n",
      "prop=0.9, deg=7, g=0.000, l=0.001, Train loss, err_ratio=(inf,0.454), Test loss, err_ratio=(inf,0.455)\n",
      "prop=0.9, deg=7, g=0.000, l=0.004, Train loss, err_ratio=(inf,0.452), Test loss, err_ratio=(inf,0.450)\n",
      "prop=0.9, deg=7, g=0.000, l=0.010, Train loss, err_ratio=(inf,0.454), Test loss, err_ratio=(inf,0.455)\n",
      "prop=0.9, deg=7, g=0.000, l=0.027, Train loss, err_ratio=(inf,0.460), Test loss, err_ratio=(inf,0.455)\n",
      "prop=0.9, deg=7, g=0.000, l=0.072, Train loss, err_ratio=(inf,0.450), Test loss, err_ratio=(inf,0.441)\n",
      "prop=0.9, deg=7, g=0.000, l=0.193, Train loss, err_ratio=(inf,0.455), Test loss, err_ratio=(inf,0.456)\n",
      "prop=0.9, deg=7, g=0.000, l=0.518, Train loss, err_ratio=(inf,0.452), Test loss, err_ratio=(inf,0.451)\n",
      "prop=0.9, deg=7, g=0.000, l=1.389, Train loss, err_ratio=(inf,0.449), Test loss, err_ratio=(inf,0.450)\n",
      "prop=0.9, deg=7, g=0.000, l=3.728, Train loss, err_ratio=(inf,0.458), Test loss, err_ratio=(inf,0.455)\n",
      "prop=0.9, deg=7, g=0.000, l=10.000, Train loss, err_ratio=(inf,0.442), Test loss, err_ratio=(inf,0.441)\n",
      "prop=0.9, deg=7, g=0.000, l=0.000, Train loss, err_ratio=(inf,0.453), Test loss, err_ratio=(inf,0.447)\n",
      "prop=0.9, deg=7, g=0.000, l=0.000, Train loss, err_ratio=(inf,0.440), Test loss, err_ratio=(inf,0.443)\n",
      "prop=0.9, deg=7, g=0.000, l=0.000, Train loss, err_ratio=(inf,0.452), Test loss, err_ratio=(inf,0.454)\n",
      "prop=0.9, deg=7, g=0.000, l=0.000, Train loss, err_ratio=(inf,0.450), Test loss, err_ratio=(inf,0.447)\n",
      "prop=0.9, deg=7, g=0.000, l=0.001, Train loss, err_ratio=(inf,0.450), Test loss, err_ratio=(inf,0.447)\n",
      "prop=0.9, deg=7, g=0.000, l=0.001, Train loss, err_ratio=(inf,0.437), Test loss, err_ratio=(inf,0.440)\n",
      "prop=0.9, deg=7, g=0.000, l=0.004, Train loss, err_ratio=(inf,0.485), Test loss, err_ratio=(inf,0.488)\n",
      "prop=0.9, deg=7, g=0.000, l=0.010, Train loss, err_ratio=(inf,0.443), Test loss, err_ratio=(inf,0.441)\n",
      "prop=0.9, deg=7, g=0.000, l=0.027, Train loss, err_ratio=(inf,0.456), Test loss, err_ratio=(inf,0.462)\n",
      "prop=0.9, deg=7, g=0.000, l=0.072, Train loss, err_ratio=(inf,0.451), Test loss, err_ratio=(inf,0.451)\n",
      "prop=0.9, deg=7, g=0.000, l=0.193, Train loss, err_ratio=(inf,0.442), Test loss, err_ratio=(inf,0.444)\n",
      "prop=0.9, deg=7, g=0.000, l=0.518, Train loss, err_ratio=(inf,0.451), Test loss, err_ratio=(inf,0.453)\n",
      "prop=0.9, deg=7, g=0.000, l=1.389, Train loss, err_ratio=(inf,0.451), Test loss, err_ratio=(inf,0.449)\n",
      "prop=0.9, deg=7, g=0.000, l=3.728, Train loss, err_ratio=(inf,0.452), Test loss, err_ratio=(inf,0.461)\n",
      "prop=0.9, deg=7, g=0.000, l=10.000, Train loss, err_ratio=(inf,0.452), Test loss, err_ratio=(inf,0.456)\n",
      "prop=0.9, deg=7, g=0.000, l=0.000, Train loss, err_ratio=(inf,0.451), Test loss, err_ratio=(inf,0.450)\n",
      "prop=0.9, deg=7, g=0.000, l=0.000, Train loss, err_ratio=(inf,0.445), Test loss, err_ratio=(inf,0.446)\n",
      "prop=0.9, deg=7, g=0.000, l=0.000, Train loss, err_ratio=(inf,0.451), Test loss, err_ratio=(inf,0.452)\n",
      "prop=0.9, deg=7, g=0.000, l=0.000, Train loss, err_ratio=(inf,0.439), Test loss, err_ratio=(inf,0.438)\n",
      "prop=0.9, deg=7, g=0.000, l=0.001, Train loss, err_ratio=(inf,0.444), Test loss, err_ratio=(inf,0.440)\n",
      "prop=0.9, deg=7, g=0.000, l=0.001, Train loss, err_ratio=(inf,0.454), Test loss, err_ratio=(inf,0.456)\n",
      "prop=0.9, deg=7, g=0.000, l=0.004, Train loss, err_ratio=(inf,0.453), Test loss, err_ratio=(inf,0.449)\n",
      "prop=0.9, deg=7, g=0.000, l=0.010, Train loss, err_ratio=(inf,0.453), Test loss, err_ratio=(inf,0.453)\n",
      "prop=0.9, deg=7, g=0.000, l=0.027, Train loss, err_ratio=(inf,0.455), Test loss, err_ratio=(inf,0.456)\n",
      "prop=0.9, deg=7, g=0.000, l=0.072, Train loss, err_ratio=(inf,0.456), Test loss, err_ratio=(inf,0.450)\n",
      "prop=0.9, deg=7, g=0.000, l=0.193, Train loss, err_ratio=(inf,0.449), Test loss, err_ratio=(inf,0.451)\n",
      "prop=0.9, deg=7, g=0.000, l=0.518, Train loss, err_ratio=(inf,0.439), Test loss, err_ratio=(inf,0.434)\n",
      "prop=0.9, deg=7, g=0.000, l=1.389, Train loss, err_ratio=(inf,0.456), Test loss, err_ratio=(inf,0.448)\n",
      "prop=0.9, deg=7, g=0.000, l=3.728, Train loss, err_ratio=(inf,0.458), Test loss, err_ratio=(inf,0.467)\n",
      "prop=0.9, deg=7, g=0.000, l=10.000, Train loss, err_ratio=(inf,0.452), Test loss, err_ratio=(inf,0.451)\n",
      "prop=0.9, deg=7, g=0.001, l=0.000, Train loss, err_ratio=(inf,0.446), Test loss, err_ratio=(inf,0.446)\n",
      "prop=0.9, deg=7, g=0.001, l=0.000, Train loss, err_ratio=(inf,0.452), Test loss, err_ratio=(inf,0.445)\n",
      "prop=0.9, deg=7, g=0.001, l=0.000, Train loss, err_ratio=(inf,0.452), Test loss, err_ratio=(inf,0.455)\n",
      "prop=0.9, deg=7, g=0.001, l=0.000, Train loss, err_ratio=(inf,0.453), Test loss, err_ratio=(inf,0.452)\n",
      "prop=0.9, deg=7, g=0.001, l=0.001, Train loss, err_ratio=(inf,0.450), Test loss, err_ratio=(inf,0.452)\n",
      "prop=0.9, deg=7, g=0.001, l=0.001, Train loss, err_ratio=(inf,0.453), Test loss, err_ratio=(inf,0.453)\n",
      "prop=0.9, deg=7, g=0.001, l=0.004, Train loss, err_ratio=(inf,0.453), Test loss, err_ratio=(inf,0.461)\n",
      "prop=0.9, deg=7, g=0.001, l=0.010, Train loss, err_ratio=(inf,0.452), Test loss, err_ratio=(inf,0.450)\n",
      "prop=0.9, deg=7, g=0.001, l=0.027, Train loss, err_ratio=(inf,0.447), Test loss, err_ratio=(inf,0.451)\n",
      "prop=0.9, deg=7, g=0.001, l=0.072, Train loss, err_ratio=(inf,0.511), Test loss, err_ratio=(inf,0.509)\n",
      "prop=0.9, deg=7, g=0.001, l=0.193, Train loss, err_ratio=(inf,0.477), Test loss, err_ratio=(inf,0.477)\n",
      "prop=0.9, deg=7, g=0.001, l=0.518, Train loss, err_ratio=(inf,0.481), Test loss, err_ratio=(inf,0.478)\n",
      "prop=0.9, deg=7, g=0.001, l=1.389, Train loss, err_ratio=(inf,0.464), Test loss, err_ratio=(inf,0.459)\n",
      "prop=0.9, deg=7, g=0.001, l=3.728, Train loss, err_ratio=(inf,0.434), Test loss, err_ratio=(inf,0.435)\n",
      "prop=0.9, deg=7, g=0.001, l=10.000, Train loss, err_ratio=(inf,0.453), Test loss, err_ratio=(inf,0.452)\n",
      "prop=0.9, deg=7, g=0.100, l=0.000, Train loss, err_ratio=(inf,0.456), Test loss, err_ratio=(inf,0.452)\n",
      "prop=0.9, deg=7, g=0.100, l=0.000, Train loss, err_ratio=(inf,0.444), Test loss, err_ratio=(inf,0.443)\n",
      "prop=0.9, deg=7, g=0.100, l=0.000, Train loss, err_ratio=(inf,0.454), Test loss, err_ratio=(inf,0.455)\n",
      "prop=0.9, deg=7, g=0.100, l=0.000, Train loss, err_ratio=(inf,0.440), Test loss, err_ratio=(inf,0.435)\n",
      "prop=0.9, deg=7, g=0.100, l=0.001, Train loss, err_ratio=(inf,0.457), Test loss, err_ratio=(inf,0.454)\n",
      "prop=0.9, deg=7, g=0.100, l=0.001, Train loss, err_ratio=(inf,0.462), Test loss, err_ratio=(inf,0.459)\n",
      "prop=0.9, deg=7, g=0.100, l=0.004, Train loss, err_ratio=(inf,0.458), Test loss, err_ratio=(inf,0.460)\n"
     ]
    },
    {
     "name": "stdout",
     "output_type": "stream",
     "text": [
      "prop=0.9, deg=7, g=0.100, l=0.010, Train loss, err_ratio=(inf,0.471), Test loss, err_ratio=(inf,0.472)\n",
      "prop=0.9, deg=7, g=0.100, l=0.027, Train loss, err_ratio=(inf,0.494), Test loss, err_ratio=(inf,0.497)\n",
      "prop=0.9, deg=7, g=0.100, l=0.072, Train loss, err_ratio=(inf,0.488), Test loss, err_ratio=(inf,0.487)\n",
      "prop=0.9, deg=7, g=0.100, l=0.193, Train loss, err_ratio=(inf,0.478), Test loss, err_ratio=(inf,0.473)\n",
      "prop=0.9, deg=7, g=0.100, l=0.518, Train loss, err_ratio=(inf,0.439), Test loss, err_ratio=(inf,0.441)\n",
      "prop=0.9, deg=7, g=0.100, l=1.389, Train loss, err_ratio=(inf,0.513), Test loss, err_ratio=(inf,0.515)\n",
      "prop=0.9, deg=7, g=0.100, l=3.728, Train loss, err_ratio=(inf,0.515), Test loss, err_ratio=(inf,0.520)\n",
      "prop=0.9, deg=7, g=0.100, l=10.000, Train loss, err_ratio=(inf,0.549), Test loss, err_ratio=(inf,0.548)\n",
      "prop=0.9, deg=7, g=0.500, l=0.000, Train loss, err_ratio=(inf,0.495), Test loss, err_ratio=(inf,0.490)\n",
      "prop=0.9, deg=7, g=0.500, l=0.000, Train loss, err_ratio=(inf,0.446), Test loss, err_ratio=(inf,0.453)\n",
      "prop=0.9, deg=7, g=0.500, l=0.000, Train loss, err_ratio=(inf,0.453), Test loss, err_ratio=(inf,0.455)\n",
      "prop=0.9, deg=7, g=0.500, l=0.000, Train loss, err_ratio=(inf,0.456), Test loss, err_ratio=(inf,0.456)\n",
      "prop=0.9, deg=7, g=0.500, l=0.001, Train loss, err_ratio=(inf,0.469), Test loss, err_ratio=(inf,0.467)\n",
      "prop=0.9, deg=7, g=0.500, l=0.001, Train loss, err_ratio=(inf,0.470), Test loss, err_ratio=(inf,0.468)\n",
      "prop=0.9, deg=7, g=0.500, l=0.004, Train loss, err_ratio=(inf,0.486), Test loss, err_ratio=(inf,0.489)\n",
      "prop=0.9, deg=7, g=0.500, l=0.010, Train loss, err_ratio=(inf,0.462), Test loss, err_ratio=(inf,0.461)\n",
      "prop=0.9, deg=7, g=0.500, l=0.027, Train loss, err_ratio=(inf,0.427), Test loss, err_ratio=(inf,0.421)\n",
      "prop=0.9, deg=7, g=0.500, l=0.072, Train loss, err_ratio=(inf,0.447), Test loss, err_ratio=(inf,0.445)\n",
      "prop=0.9, deg=7, g=0.500, l=0.193, Train loss, err_ratio=(inf,0.472), Test loss, err_ratio=(inf,0.476)\n",
      "prop=0.9, deg=7, g=0.500, l=0.518, Train loss, err_ratio=(inf,0.506), Test loss, err_ratio=(inf,0.508)\n",
      "prop=0.9, deg=7, g=0.500, l=1.389, Train loss, err_ratio=(inf,0.551), Test loss, err_ratio=(inf,0.551)\n",
      "prop=0.9, deg=7, g=0.500, l=3.728, Train loss, err_ratio=(nan,1.000), Test loss, err_ratio=(nan,1.000)\n",
      "prop=0.9, deg=7, g=0.500, l=10.000, Train loss, err_ratio=(nan,1.000), Test loss, err_ratio=(nan,1.000)\n",
      "prop=0.9, deg=12, g=0.000, l=0.000, Train loss, err_ratio=(inf,0.600), Test loss, err_ratio=(inf,0.596)\n",
      "prop=0.9, deg=12, g=0.000, l=0.000, Train loss, err_ratio=(inf,0.620), Test loss, err_ratio=(inf,0.617)\n",
      "prop=0.9, deg=12, g=0.000, l=0.000, Train loss, err_ratio=(inf,0.596), Test loss, err_ratio=(inf,0.592)\n",
      "prop=0.9, deg=12, g=0.000, l=0.000, Train loss, err_ratio=(inf,0.596), Test loss, err_ratio=(inf,0.600)\n",
      "prop=0.9, deg=12, g=0.000, l=0.001, Train loss, err_ratio=(inf,0.598), Test loss, err_ratio=(inf,0.595)\n",
      "prop=0.9, deg=12, g=0.000, l=0.001, Train loss, err_ratio=(inf,0.594), Test loss, err_ratio=(inf,0.599)\n",
      "prop=0.9, deg=12, g=0.000, l=0.004, Train loss, err_ratio=(inf,0.604), Test loss, err_ratio=(inf,0.602)\n",
      "prop=0.9, deg=12, g=0.000, l=0.010, Train loss, err_ratio=(inf,0.600), Test loss, err_ratio=(inf,0.594)\n",
      "prop=0.9, deg=12, g=0.000, l=0.027, Train loss, err_ratio=(inf,0.603), Test loss, err_ratio=(inf,0.601)\n",
      "prop=0.9, deg=12, g=0.000, l=0.072, Train loss, err_ratio=(inf,0.387), Test loss, err_ratio=(inf,0.391)\n",
      "prop=0.9, deg=12, g=0.000, l=0.193, Train loss, err_ratio=(inf,0.620), Test loss, err_ratio=(inf,0.624)\n",
      "prop=0.9, deg=12, g=0.000, l=0.518, Train loss, err_ratio=(inf,0.611), Test loss, err_ratio=(inf,0.615)\n",
      "prop=0.9, deg=12, g=0.000, l=1.389, Train loss, err_ratio=(inf,0.602), Test loss, err_ratio=(inf,0.599)\n",
      "prop=0.9, deg=12, g=0.000, l=3.728, Train loss, err_ratio=(inf,0.600), Test loss, err_ratio=(inf,0.597)\n",
      "prop=0.9, deg=12, g=0.000, l=10.000, Train loss, err_ratio=(inf,0.604), Test loss, err_ratio=(inf,0.606)\n",
      "prop=0.9, deg=12, g=0.000, l=0.000, Train loss, err_ratio=(inf,0.611), Test loss, err_ratio=(inf,0.613)\n",
      "prop=0.9, deg=12, g=0.000, l=0.000, Train loss, err_ratio=(inf,0.600), Test loss, err_ratio=(inf,0.596)\n",
      "prop=0.9, deg=12, g=0.000, l=0.000, Train loss, err_ratio=(inf,0.598), Test loss, err_ratio=(inf,0.598)\n",
      "prop=0.9, deg=12, g=0.000, l=0.000, Train loss, err_ratio=(inf,0.609), Test loss, err_ratio=(inf,0.609)\n",
      "prop=0.9, deg=12, g=0.000, l=0.001, Train loss, err_ratio=(inf,0.609), Test loss, err_ratio=(inf,0.613)\n",
      "prop=0.9, deg=12, g=0.000, l=0.001, Train loss, err_ratio=(inf,0.598), Test loss, err_ratio=(inf,0.597)\n",
      "prop=0.9, deg=12, g=0.000, l=0.004, Train loss, err_ratio=(inf,0.391), Test loss, err_ratio=(inf,0.387)\n",
      "prop=0.9, deg=12, g=0.000, l=0.010, Train loss, err_ratio=(inf,0.598), Test loss, err_ratio=(inf,0.594)\n",
      "prop=0.9, deg=12, g=0.000, l=0.027, Train loss, err_ratio=(inf,0.614), Test loss, err_ratio=(inf,0.613)\n",
      "prop=0.9, deg=12, g=0.000, l=0.072, Train loss, err_ratio=(inf,0.598), Test loss, err_ratio=(inf,0.598)\n",
      "prop=0.9, deg=12, g=0.000, l=0.193, Train loss, err_ratio=(inf,0.603), Test loss, err_ratio=(inf,0.602)\n",
      "prop=0.9, deg=12, g=0.000, l=0.518, Train loss, err_ratio=(inf,0.601), Test loss, err_ratio=(inf,0.603)\n",
      "prop=0.9, deg=12, g=0.000, l=1.389, Train loss, err_ratio=(inf,0.599), Test loss, err_ratio=(inf,0.595)\n",
      "prop=0.9, deg=12, g=0.000, l=3.728, Train loss, err_ratio=(inf,0.599), Test loss, err_ratio=(inf,0.606)\n",
      "prop=0.9, deg=12, g=0.000, l=10.000, Train loss, err_ratio=(inf,0.613), Test loss, err_ratio=(inf,0.614)\n",
      "prop=0.9, deg=12, g=0.000, l=0.000, Train loss, err_ratio=(inf,0.337), Test loss, err_ratio=(inf,0.341)\n",
      "prop=0.9, deg=12, g=0.000, l=0.000, Train loss, err_ratio=(inf,0.602), Test loss, err_ratio=(inf,0.601)\n",
      "prop=0.9, deg=12, g=0.000, l=0.000, Train loss, err_ratio=(inf,0.600), Test loss, err_ratio=(inf,0.599)\n",
      "prop=0.9, deg=12, g=0.000, l=0.000, Train loss, err_ratio=(inf,0.596), Test loss, err_ratio=(inf,0.599)\n",
      "prop=0.9, deg=12, g=0.000, l=0.001, Train loss, err_ratio=(inf,0.598), Test loss, err_ratio=(inf,0.593)\n",
      "prop=0.9, deg=12, g=0.000, l=0.001, Train loss, err_ratio=(inf,0.612), Test loss, err_ratio=(inf,0.610)\n",
      "prop=0.9, deg=12, g=0.000, l=0.004, Train loss, err_ratio=(inf,0.599), Test loss, err_ratio=(inf,0.600)\n",
      "prop=0.9, deg=12, g=0.000, l=0.010, Train loss, err_ratio=(inf,0.609), Test loss, err_ratio=(inf,0.612)\n",
      "prop=0.9, deg=12, g=0.000, l=0.027, Train loss, err_ratio=(inf,0.598), Test loss, err_ratio=(inf,0.594)\n",
      "prop=0.9, deg=12, g=0.000, l=0.072, Train loss, err_ratio=(inf,0.598), Test loss, err_ratio=(inf,0.606)\n",
      "prop=0.9, deg=12, g=0.000, l=0.193, Train loss, err_ratio=(inf,0.603), Test loss, err_ratio=(inf,0.599)\n",
      "prop=0.9, deg=12, g=0.000, l=0.518, Train loss, err_ratio=(inf,0.615), Test loss, err_ratio=(inf,0.616)\n",
      "prop=0.9, deg=12, g=0.000, l=1.389, Train loss, err_ratio=(inf,0.601), Test loss, err_ratio=(inf,0.601)\n",
      "prop=0.9, deg=12, g=0.000, l=3.728, Train loss, err_ratio=(inf,0.600), Test loss, err_ratio=(inf,0.606)\n",
      "prop=0.9, deg=12, g=0.000, l=10.000, Train loss, err_ratio=(inf,0.600), Test loss, err_ratio=(inf,0.601)\n",
      "prop=0.9, deg=12, g=0.001, l=0.000, Train loss, err_ratio=(inf,0.598), Test loss, err_ratio=(inf,0.598)\n",
      "prop=0.9, deg=12, g=0.001, l=0.000, Train loss, err_ratio=(inf,0.611), Test loss, err_ratio=(inf,0.610)\n",
      "prop=0.9, deg=12, g=0.001, l=0.000, Train loss, err_ratio=(inf,0.597), Test loss, err_ratio=(inf,0.601)\n",
      "prop=0.9, deg=12, g=0.001, l=0.000, Train loss, err_ratio=(inf,0.600), Test loss, err_ratio=(inf,0.599)\n",
      "prop=0.9, deg=12, g=0.001, l=0.001, Train loss, err_ratio=(inf,0.599), Test loss, err_ratio=(inf,0.598)\n",
      "prop=0.9, deg=12, g=0.001, l=0.001, Train loss, err_ratio=(inf,0.386), Test loss, err_ratio=(inf,0.387)\n",
      "prop=0.9, deg=12, g=0.001, l=0.004, Train loss, err_ratio=(inf,0.598), Test loss, err_ratio=(inf,0.601)\n",
      "prop=0.9, deg=12, g=0.001, l=0.010, Train loss, err_ratio=(inf,0.604), Test loss, err_ratio=(inf,0.603)\n",
      "prop=0.9, deg=12, g=0.001, l=0.027, Train loss, err_ratio=(inf,0.603), Test loss, err_ratio=(inf,0.607)\n",
      "prop=0.9, deg=12, g=0.001, l=0.072, Train loss, err_ratio=(inf,0.598), Test loss, err_ratio=(inf,0.594)\n",
      "prop=0.9, deg=12, g=0.001, l=0.193, Train loss, err_ratio=(inf,0.599), Test loss, err_ratio=(inf,0.591)\n"
     ]
    },
    {
     "name": "stdout",
     "output_type": "stream",
     "text": [
      "prop=0.9, deg=12, g=0.001, l=0.518, Train loss, err_ratio=(inf,0.603), Test loss, err_ratio=(inf,0.603)\n",
      "prop=0.9, deg=12, g=0.001, l=1.389, Train loss, err_ratio=(inf,0.575), Test loss, err_ratio=(inf,0.574)\n",
      "prop=0.9, deg=12, g=0.001, l=3.728, Train loss, err_ratio=(inf,0.559), Test loss, err_ratio=(inf,0.556)\n",
      "prop=0.9, deg=12, g=0.001, l=10.000, Train loss, err_ratio=(inf,0.593), Test loss, err_ratio=(inf,0.594)\n",
      "prop=0.9, deg=12, g=0.100, l=0.000, Train loss, err_ratio=(inf,0.601), Test loss, err_ratio=(inf,0.597)\n",
      "prop=0.9, deg=12, g=0.100, l=0.000, Train loss, err_ratio=(inf,0.598), Test loss, err_ratio=(inf,0.596)\n",
      "prop=0.9, deg=12, g=0.100, l=0.000, Train loss, err_ratio=(inf,0.602), Test loss, err_ratio=(inf,0.606)\n",
      "prop=0.9, deg=12, g=0.100, l=0.000, Train loss, err_ratio=(inf,0.598), Test loss, err_ratio=(inf,0.599)\n",
      "prop=0.9, deg=12, g=0.100, l=0.001, Train loss, err_ratio=(inf,0.604), Test loss, err_ratio=(inf,0.604)\n",
      "prop=0.9, deg=12, g=0.100, l=0.001, Train loss, err_ratio=(inf,0.596), Test loss, err_ratio=(inf,0.600)\n",
      "prop=0.9, deg=12, g=0.100, l=0.004, Train loss, err_ratio=(inf,0.592), Test loss, err_ratio=(inf,0.594)\n",
      "prop=0.9, deg=12, g=0.100, l=0.010, Train loss, err_ratio=(inf,0.585), Test loss, err_ratio=(inf,0.579)\n",
      "prop=0.9, deg=12, g=0.100, l=0.027, Train loss, err_ratio=(inf,0.566), Test loss, err_ratio=(inf,0.577)\n",
      "prop=0.9, deg=12, g=0.100, l=0.072, Train loss, err_ratio=(inf,0.490), Test loss, err_ratio=(inf,0.491)\n",
      "prop=0.9, deg=12, g=0.100, l=0.193, Train loss, err_ratio=(inf,0.595), Test loss, err_ratio=(inf,0.592)\n",
      "prop=0.9, deg=12, g=0.100, l=0.518, Train loss, err_ratio=(inf,0.534), Test loss, err_ratio=(inf,0.537)\n",
      "prop=0.9, deg=12, g=0.100, l=1.389, Train loss, err_ratio=(inf,0.552), Test loss, err_ratio=(inf,0.546)\n",
      "prop=0.9, deg=12, g=0.100, l=3.728, Train loss, err_ratio=(inf,0.433), Test loss, err_ratio=(inf,0.431)\n",
      "prop=0.9, deg=12, g=0.100, l=10.000, Train loss, err_ratio=(inf,0.384), Test loss, err_ratio=(inf,0.382)\n",
      "prop=0.9, deg=12, g=0.500, l=0.000, Train loss, err_ratio=(inf,0.608), Test loss, err_ratio=(inf,0.603)\n",
      "prop=0.9, deg=12, g=0.500, l=0.000, Train loss, err_ratio=(inf,0.364), Test loss, err_ratio=(inf,0.359)\n",
      "prop=0.9, deg=12, g=0.500, l=0.000, Train loss, err_ratio=(inf,0.598), Test loss, err_ratio=(inf,0.596)\n",
      "prop=0.9, deg=12, g=0.500, l=0.000, Train loss, err_ratio=(inf,0.607), Test loss, err_ratio=(inf,0.608)\n",
      "prop=0.9, deg=12, g=0.500, l=0.001, Train loss, err_ratio=(inf,0.602), Test loss, err_ratio=(inf,0.601)\n",
      "prop=0.9, deg=12, g=0.500, l=0.001, Train loss, err_ratio=(inf,0.591), Test loss, err_ratio=(inf,0.596)\n",
      "prop=0.9, deg=12, g=0.500, l=0.004, Train loss, err_ratio=(inf,0.574), Test loss, err_ratio=(inf,0.574)\n",
      "prop=0.9, deg=12, g=0.500, l=0.010, Train loss, err_ratio=(inf,0.498), Test loss, err_ratio=(inf,0.496)\n",
      "prop=0.9, deg=12, g=0.500, l=0.027, Train loss, err_ratio=(inf,0.523), Test loss, err_ratio=(inf,0.522)\n",
      "prop=0.9, deg=12, g=0.500, l=0.072, Train loss, err_ratio=(inf,0.451), Test loss, err_ratio=(inf,0.451)\n",
      "prop=0.9, deg=12, g=0.500, l=0.193, Train loss, err_ratio=(inf,0.530), Test loss, err_ratio=(inf,0.533)\n",
      "prop=0.9, deg=12, g=0.500, l=0.518, Train loss, err_ratio=(inf,0.394), Test loss, err_ratio=(inf,0.397)\n",
      "prop=0.9, deg=12, g=0.500, l=1.389, Train loss, err_ratio=(inf,0.384), Test loss, err_ratio=(inf,0.384)\n",
      "prop=0.9, deg=12, g=0.500, l=3.728, Train loss, err_ratio=(nan,1.000), Test loss, err_ratio=(nan,1.000)\n",
      "prop=0.9, deg=12, g=0.500, l=10.000, Train loss, err_ratio=(nan,1.000), Test loss, err_ratio=(nan,1.000)\n",
      "prop=0.8, deg=1, g=0.000, l=0.000, Train loss, err_ratio=(134536.864,0.312), Test loss, err_ratio=(33645.637,0.314)\n",
      "prop=0.8, deg=1, g=0.000, l=0.000, Train loss, err_ratio=(134533.264,0.313), Test loss, err_ratio=(33648.655,0.313)\n",
      "prop=0.8, deg=1, g=0.000, l=0.000, Train loss, err_ratio=(134531.818,0.312), Test loss, err_ratio=(33649.111,0.316)\n",
      "prop=0.8, deg=1, g=0.000, l=0.000, Train loss, err_ratio=(134542.921,0.313), Test loss, err_ratio=(33645.055,0.314)\n",
      "prop=0.8, deg=1, g=0.000, l=0.001, Train loss, err_ratio=(134542.697,0.313), Test loss, err_ratio=(33643.941,0.313)\n",
      "prop=0.8, deg=1, g=0.000, l=0.001, Train loss, err_ratio=(134564.271,0.313), Test loss, err_ratio=(33635.194,0.312)\n",
      "prop=0.8, deg=1, g=0.000, l=0.004, Train loss, err_ratio=(134554.844,0.313), Test loss, err_ratio=(33638.941,0.314)\n",
      "prop=0.8, deg=1, g=0.000, l=0.010, Train loss, err_ratio=(134546.187,0.313), Test loss, err_ratio=(33642.674,0.311)\n"
     ]
    },
    {
     "ename": "KeyboardInterrupt",
     "evalue": "",
     "output_type": "error",
     "traceback": [
      "\u001b[0;31m---------------------------------------------------------------------------\u001b[0m",
      "\u001b[0;31mKeyboardInterrupt\u001b[0m                         Traceback (most recent call last)",
      "\u001b[0;32m<ipython-input-6-edf5c92e9413>\u001b[0m in \u001b[0;36m<module>\u001b[0;34m()\u001b[0m\n\u001b[1;32m     13\u001b[0m         \u001b[0;32mfor\u001b[0m \u001b[0mgamma\u001b[0m \u001b[0;32min\u001b[0m \u001b[0mgammas\u001b[0m\u001b[0;34m:\u001b[0m\u001b[0;34m\u001b[0m\u001b[0m\n\u001b[1;32m     14\u001b[0m             \u001b[0;32mfor\u001b[0m \u001b[0mlambda_\u001b[0m \u001b[0;32min\u001b[0m \u001b[0mlambdas\u001b[0m\u001b[0;34m:\u001b[0m\u001b[0;34m\u001b[0m\u001b[0m\n\u001b[0;32m---> 15\u001b[0;31m                 \u001b[0mw\u001b[0m\u001b[0;34m,\u001b[0m \u001b[0mratio_error_train\u001b[0m\u001b[0;34m,\u001b[0m \u001b[0mratio_error_test\u001b[0m \u001b[0;34m=\u001b[0m \u001b[0mreg_logistic_regression_split\u001b[0m\u001b[0;34m(\u001b[0m\u001b[0mx\u001b[0m\u001b[0;34m,\u001b[0m \u001b[0my\u001b[0m\u001b[0;34m,\u001b[0m \u001b[0mdegree\u001b[0m\u001b[0;34m,\u001b[0m \u001b[0msplit_ratio\u001b[0m\u001b[0;34m,\u001b[0m \u001b[0mgamma\u001b[0m\u001b[0;34m,\u001b[0m \u001b[0mlambda_\u001b[0m\u001b[0;34m,\u001b[0m \u001b[0mseed\u001b[0m\u001b[0;34m)\u001b[0m\u001b[0;34m\u001b[0m\u001b[0m\n\u001b[0m\u001b[1;32m     16\u001b[0m                 \u001b[0mws\u001b[0m\u001b[0;34m.\u001b[0m\u001b[0mappend\u001b[0m\u001b[0;34m(\u001b[0m\u001b[0mw\u001b[0m\u001b[0;34m)\u001b[0m\u001b[0;34m\u001b[0m\u001b[0m\n\u001b[1;32m     17\u001b[0m                 \u001b[0mratio_err_trains\u001b[0m\u001b[0;34m.\u001b[0m\u001b[0mappend\u001b[0m\u001b[0;34m(\u001b[0m\u001b[0mratio_error_train\u001b[0m\u001b[0;34m)\u001b[0m\u001b[0;34m\u001b[0m\u001b[0m\n",
      "\u001b[0;32m<ipython-input-5-0ed1f079b234>\u001b[0m in \u001b[0;36mreg_logistic_regression_split\u001b[0;34m(x, y, degree, ratio, gamma, lambda_, seed)\u001b[0m\n\u001b[1;32m     13\u001b[0m \u001b[0;34m\u001b[0m\u001b[0m\n\u001b[1;32m     14\u001b[0m     \u001b[0;31m# calcualte weight through logistic regression\u001b[0m\u001b[0;34m\u001b[0m\u001b[0;34m\u001b[0m\u001b[0m\n\u001b[0;32m---> 15\u001b[0;31m     \u001b[0mw\u001b[0m\u001b[0;34m,\u001b[0m \u001b[0mloss_tr\u001b[0m \u001b[0;34m=\u001b[0m \u001b[0mreg_logistic_regression\u001b[0m\u001b[0;34m(\u001b[0m\u001b[0my_train\u001b[0m\u001b[0;34m,\u001b[0m \u001b[0mphi_train\u001b[0m\u001b[0;34m,\u001b[0m \u001b[0mlambda_\u001b[0m\u001b[0;34m,\u001b[0m \u001b[0mw_initial\u001b[0m\u001b[0;34m,\u001b[0m \u001b[0mmax_iters\u001b[0m\u001b[0;34m,\u001b[0m \u001b[0mgamma\u001b[0m\u001b[0;34m,\u001b[0m \u001b[0mSGD\u001b[0m\u001b[0;34m=\u001b[0m\u001b[0;32mFalse\u001b[0m\u001b[0;34m)\u001b[0m\u001b[0;34m\u001b[0m\u001b[0m\n\u001b[0m\u001b[1;32m     16\u001b[0m \u001b[0;34m\u001b[0m\u001b[0m\n\u001b[1;32m     17\u001b[0m     \u001b[0mloss_te\u001b[0m \u001b[0;34m=\u001b[0m \u001b[0mcompute_logistic_loss\u001b[0m\u001b[0;34m(\u001b[0m\u001b[0my_test\u001b[0m\u001b[0;34m,\u001b[0m \u001b[0mphi_test\u001b[0m\u001b[0;34m,\u001b[0m \u001b[0mw\u001b[0m\u001b[0;34m)\u001b[0m\u001b[0;34m\u001b[0m\u001b[0m\n",
      "\u001b[0;32m~/Desktop/ML_Projects/project1/phil/implementations.py\u001b[0m in \u001b[0;36mreg_logistic_regression\u001b[0;34m(y, tx, lambda_, initial_w, max_iters, gamma, SGD, batch_size)\u001b[0m\n\u001b[1;32m    113\u001b[0m         \u001b[0;32mfor\u001b[0m \u001b[0mn_iter\u001b[0m \u001b[0;32min\u001b[0m \u001b[0mrange\u001b[0m\u001b[0;34m(\u001b[0m\u001b[0mmax_iters\u001b[0m\u001b[0;34m)\u001b[0m\u001b[0;34m:\u001b[0m\u001b[0;34m\u001b[0m\u001b[0m\n\u001b[1;32m    114\u001b[0m             \u001b[0mloss\u001b[0m \u001b[0;34m=\u001b[0m \u001b[0mcompute_logistic_loss\u001b[0m\u001b[0;34m(\u001b[0m\u001b[0my\u001b[0m\u001b[0;34m,\u001b[0m \u001b[0mtx\u001b[0m\u001b[0;34m,\u001b[0m \u001b[0mw\u001b[0m\u001b[0;34m)\u001b[0m\u001b[0;34m\u001b[0m\u001b[0m\n\u001b[0;32m--> 115\u001b[0;31m             \u001b[0mgradient\u001b[0m \u001b[0;34m=\u001b[0m \u001b[0mcompute_logistic_gradient\u001b[0m\u001b[0;34m(\u001b[0m\u001b[0my\u001b[0m\u001b[0;34m,\u001b[0m \u001b[0mtx\u001b[0m\u001b[0;34m,\u001b[0m \u001b[0mw\u001b[0m\u001b[0;34m)\u001b[0m\u001b[0;34m\u001b[0m\u001b[0m\n\u001b[0m\u001b[1;32m    116\u001b[0m             \u001b[0mloss_reg\u001b[0m\u001b[0;34m,\u001b[0m \u001b[0mgradient_reg\u001b[0m \u001b[0;34m=\u001b[0m \u001b[0mregularizer\u001b[0m\u001b[0;34m(\u001b[0m\u001b[0mlambda_\u001b[0m\u001b[0;34m,\u001b[0m \u001b[0mw\u001b[0m\u001b[0;34m)\u001b[0m\u001b[0;34m\u001b[0m\u001b[0m\n\u001b[1;32m    117\u001b[0m             \u001b[0mloss_new\u001b[0m \u001b[0;34m=\u001b[0m \u001b[0mloss\u001b[0m \u001b[0;34m+\u001b[0m \u001b[0mloss_reg\u001b[0m\u001b[0;34m\u001b[0m\u001b[0m\n",
      "\u001b[0;32m~/Desktop/ML_Projects/project1/phil/auxiliary.py\u001b[0m in \u001b[0;36mcompute_logistic_gradient\u001b[0;34m(y, tx, w)\u001b[0m\n\u001b[1;32m     60\u001b[0m \u001b[0;34m\u001b[0m\u001b[0m\n\u001b[1;32m     61\u001b[0m \u001b[0;32mdef\u001b[0m \u001b[0mcompute_logistic_gradient\u001b[0m\u001b[0;34m(\u001b[0m\u001b[0my\u001b[0m\u001b[0;34m,\u001b[0m \u001b[0mtx\u001b[0m\u001b[0;34m,\u001b[0m \u001b[0mw\u001b[0m\u001b[0;34m)\u001b[0m\u001b[0;34m:\u001b[0m\u001b[0;34m\u001b[0m\u001b[0m\n\u001b[0;32m---> 62\u001b[0;31m     \u001b[0mprediction\u001b[0m \u001b[0;34m=\u001b[0m \u001b[0msigmoid\u001b[0m\u001b[0;34m(\u001b[0m\u001b[0mtx\u001b[0m\u001b[0;34m.\u001b[0m\u001b[0mdot\u001b[0m\u001b[0;34m(\u001b[0m\u001b[0mw\u001b[0m\u001b[0;34m)\u001b[0m\u001b[0;34m)\u001b[0m\u001b[0;34m\u001b[0m\u001b[0m\n\u001b[0m\u001b[1;32m     63\u001b[0m     \u001b[0mgradient\u001b[0m \u001b[0;34m=\u001b[0m \u001b[0mtx\u001b[0m\u001b[0;34m.\u001b[0m\u001b[0mT\u001b[0m\u001b[0;34m.\u001b[0m\u001b[0mdot\u001b[0m\u001b[0;34m(\u001b[0m\u001b[0mprediction\u001b[0m \u001b[0;34m-\u001b[0m \u001b[0my\u001b[0m\u001b[0;34m)\u001b[0m\u001b[0;34m\u001b[0m\u001b[0m\n\u001b[1;32m     64\u001b[0m     \u001b[0;32mreturn\u001b[0m \u001b[0mgradient\u001b[0m\u001b[0;34m\u001b[0m\u001b[0m\n",
      "\u001b[0;32m~/Desktop/ML_Projects/project1/phil/auxiliary.py\u001b[0m in \u001b[0;36msigmoid\u001b[0;34m(t)\u001b[0m\n\u001b[1;32m     51\u001b[0m     \u001b[0mt\u001b[0m\u001b[0;34m[\u001b[0m\u001b[0mt\u001b[0m\u001b[0;34m<\u001b[0m\u001b[0;34m-\u001b[0m\u001b[0;36m100.0\u001b[0m\u001b[0;34m]\u001b[0m\u001b[0;34m=\u001b[0m\u001b[0;34m-\u001b[0m\u001b[0;36m100.0\u001b[0m\u001b[0;34m\u001b[0m\u001b[0m\n\u001b[1;32m     52\u001b[0m \u001b[0;34m\u001b[0m\u001b[0m\n\u001b[0;32m---> 53\u001b[0;31m     \u001b[0;32mreturn\u001b[0m \u001b[0;36m1.\u001b[0m \u001b[0;34m/\u001b[0m \u001b[0;34m(\u001b[0m\u001b[0;36m1.\u001b[0m \u001b[0;34m+\u001b[0m \u001b[0mnp\u001b[0m\u001b[0;34m.\u001b[0m\u001b[0mexp\u001b[0m\u001b[0;34m(\u001b[0m\u001b[0;34m-\u001b[0m\u001b[0mt\u001b[0m\u001b[0;34m)\u001b[0m\u001b[0;34m)\u001b[0m\u001b[0;34m\u001b[0m\u001b[0m\n\u001b[0m\u001b[1;32m     54\u001b[0m \u001b[0;34m\u001b[0m\u001b[0m\n\u001b[1;32m     55\u001b[0m \u001b[0;32mdef\u001b[0m \u001b[0mcompute_logistic_loss\u001b[0m\u001b[0;34m(\u001b[0m\u001b[0my\u001b[0m\u001b[0;34m,\u001b[0m \u001b[0mtx\u001b[0m\u001b[0;34m,\u001b[0m \u001b[0mw\u001b[0m\u001b[0;34m)\u001b[0m\u001b[0;34m:\u001b[0m\u001b[0;34m\u001b[0m\u001b[0m\n",
      "\u001b[0;31mKeyboardInterrupt\u001b[0m: "
     ]
    }
   ],
   "source": [
    "seed = 6\n",
    "degrees = [1, 3, 7, 12]\n",
    "split_ratios = [0.9, 0.8]\n",
    "gammas = [1e-9, 1e-7, 1e-5, 1e-3, 1e-1, 0.5]\n",
    "lambdas = np.logspace(-5, 1, 15)\n",
    "\n",
    "ws = []\n",
    "ratio_err_trains = []\n",
    "ratio_err_tests = []\n",
    "\n",
    "for split_ratio in split_ratios:\n",
    "    for degree in degrees:\n",
    "        for gamma in gammas:\n",
    "            for lambda_ in lambdas:\n",
    "                w, ratio_error_train, ratio_error_test = reg_logistic_regression_split(x, y, degree, split_ratio, gamma, lambda_, seed)\n",
    "                ws.append(w)\n",
    "                ratio_err_trains.append(ratio_error_train)\n",
    "                ratio_err_tests.append(ratio_error_test)\n",
    "            "
   ]
  },
  {
   "cell_type": "code",
   "execution_count": 18,
   "metadata": {},
   "outputs": [
    {
     "name": "stdout",
     "output_type": "stream",
     "text": [
      "116\n",
      "0.21364\n",
      "368\n"
     ]
    }
   ],
   "source": [
    "w_reg_log_reg = ws[np.argmin(ratio_err_tests)]\n",
    "print(np.argmin(ratio_err_tests))\n",
    "print(ratio_err_tests[np.argmin(ratio_err_tests)])\n",
    "#print(w_reg_log_reg.shape)\n",
    "print(len(ratio_err_tests))"
   ]
  },
  {
   "cell_type": "code",
   "execution_count": 12,
   "metadata": {},
   "outputs": [
    {
     "name": "stdout",
     "output_type": "stream",
     "text": [
      "1\n"
     ]
    }
   ],
   "source": [
    "z = [1, 0, 2, 3]\n",
    "print(np.argmin(z))"
   ]
  },
  {
   "cell_type": "markdown",
   "metadata": {},
   "source": [
    "# Perform estimation on evaluation set\n",
    "Une fois qu'on a le bon vecteur de poids, il suffit de runner ce code pour avoir le fichier de sortie."
   ]
  },
  {
   "cell_type": "code",
   "execution_count": 47,
   "metadata": {},
   "outputs": [],
   "source": [
    "tx_ukn = build_poly(x_ukn, 12)\n",
    "y_ukn = predict_labels(w_LS_degree_CV, tx_ukn, logistic_reg=False)\n",
    "y_ukn[y_ukn==0] = -1\n",
    "create_csv_submission(ids_ukn, y_ukn, 'submission.csv')"
   ]
  },
  {
   "cell_type": "code",
   "execution_count": 25,
   "metadata": {
    "collapsed": true
   },
   "outputs": [],
   "source": [
    "tx = build_poly(x, 11)\n",
    "y_pred = predict_labels(w_LS_degree_CV, tx, logistic_reg=False)\n",
    "y_pred[y_pred==0] = -1\n",
    "create_csv_submission(ids, y_pred, 'nosubmission.csv')"
   ]
  },
  {
   "cell_type": "code",
   "execution_count": null,
   "metadata": {
    "collapsed": true
   },
   "outputs": [],
   "source": []
  }
 ],
 "metadata": {
  "kernelspec": {
   "display_name": "Python 3",
   "language": "python",
   "name": "python3"
  },
  "language_info": {
   "codemirror_mode": {
    "name": "ipython",
    "version": 3
   },
   "file_extension": ".py",
   "mimetype": "text/x-python",
   "name": "python",
   "nbconvert_exporter": "python",
   "pygments_lexer": "ipython3",
   "version": "3.6.2"
  }
 },
 "nbformat": 4,
 "nbformat_minor": 2
}
